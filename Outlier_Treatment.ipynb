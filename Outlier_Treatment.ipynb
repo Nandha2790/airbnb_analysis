{
 "cells": [
  {
   "cell_type": "code",
   "execution_count": 1,
   "id": "2dbf611c-e686-4613-bbc8-562e6457c521",
   "metadata": {},
   "outputs": [],
   "source": [
    "import pandas as pd"
   ]
  },
  {
   "cell_type": "code",
   "execution_count": 2,
   "id": "8913731a-5931-4a46-904f-f8612543d281",
   "metadata": {},
   "outputs": [],
   "source": [
    "df = pd.read_csv(r\"C:\\Users\\Saathvik & Sujanya\\Documents\\Guvi\\Project\\04_Airbnb\\airbnb.csv\")"
   ]
  },
  {
   "cell_type": "code",
   "execution_count": 3,
   "id": "a4186aeb-945e-4387-bf3e-ccc35d0e080d",
   "metadata": {
    "scrolled": true
   },
   "outputs": [
    {
     "data": {
      "text/html": [
       "<div>\n",
       "<style scoped>\n",
       "    .dataframe tbody tr th:only-of-type {\n",
       "        vertical-align: middle;\n",
       "    }\n",
       "\n",
       "    .dataframe tbody tr th {\n",
       "        vertical-align: top;\n",
       "    }\n",
       "\n",
       "    .dataframe thead th {\n",
       "        text-align: right;\n",
       "    }\n",
       "</style>\n",
       "<table border=\"1\" class=\"dataframe\">\n",
       "  <thead>\n",
       "    <tr style=\"text-align: right;\">\n",
       "      <th></th>\n",
       "      <th>0</th>\n",
       "      <th>1</th>\n",
       "      <th>2</th>\n",
       "      <th>3</th>\n",
       "      <th>4</th>\n",
       "    </tr>\n",
       "  </thead>\n",
       "  <tbody>\n",
       "    <tr>\n",
       "      <th>_id</th>\n",
       "      <td>10006546</td>\n",
       "      <td>10009999</td>\n",
       "      <td>1001265</td>\n",
       "      <td>10021707</td>\n",
       "      <td>10030955</td>\n",
       "    </tr>\n",
       "    <tr>\n",
       "      <th>name</th>\n",
       "      <td>Ribeira Charming Duplex</td>\n",
       "      <td>Horto flat with small garden</td>\n",
       "      <td>Ocean View Waikiki Marina w/prkg</td>\n",
       "      <td>Private Room in Bushwick</td>\n",
       "      <td>Apt Linda Vista Lagoa - Rio</td>\n",
       "    </tr>\n",
       "    <tr>\n",
       "      <th>description</th>\n",
       "      <td>Fantastic duplex apartment with three bedrooms...</td>\n",
       "      <td>One bedroom + sofa-bed in quiet and bucolic ne...</td>\n",
       "      <td>A short distance from Honolulu's billion dolla...</td>\n",
       "      <td>Here exists a very cozy room for rent in a sha...</td>\n",
       "      <td>Quarto com vista para a Lagoa Rodrigo de Freit...</td>\n",
       "    </tr>\n",
       "    <tr>\n",
       "      <th>price</th>\n",
       "      <td>80.0</td>\n",
       "      <td>317.0</td>\n",
       "      <td>115.0</td>\n",
       "      <td>40.0</td>\n",
       "      <td>701.0</td>\n",
       "    </tr>\n",
       "    <tr>\n",
       "      <th>amenities</th>\n",
       "      <td>['TV', 'Cable TV', 'Wifi', 'Kitchen', 'Paid pa...</td>\n",
       "      <td>['Wifi', 'Wheelchair accessible', 'Kitchen', '...</td>\n",
       "      <td>['TV', 'Cable TV', 'Wifi', 'Air conditioning',...</td>\n",
       "      <td>['Internet', 'Wifi', 'Air conditioning', 'Kitc...</td>\n",
       "      <td>['TV', 'Cable TV', 'Internet', 'Wifi', 'Air co...</td>\n",
       "    </tr>\n",
       "    <tr>\n",
       "      <th>bedrooms</th>\n",
       "      <td>3.0</td>\n",
       "      <td>1.0</td>\n",
       "      <td>1.0</td>\n",
       "      <td>1.0</td>\n",
       "      <td>1.0</td>\n",
       "    </tr>\n",
       "    <tr>\n",
       "      <th>beds</th>\n",
       "      <td>5.0</td>\n",
       "      <td>2.0</td>\n",
       "      <td>1.0</td>\n",
       "      <td>1.0</td>\n",
       "      <td>1.0</td>\n",
       "    </tr>\n",
       "    <tr>\n",
       "      <th>cleaning_fee</th>\n",
       "      <td>35.0</td>\n",
       "      <td>187.0</td>\n",
       "      <td>100.0</td>\n",
       "      <td>0.0</td>\n",
       "      <td>250.0</td>\n",
       "    </tr>\n",
       "    <tr>\n",
       "      <th>guests_included</th>\n",
       "      <td>6</td>\n",
       "      <td>1</td>\n",
       "      <td>1</td>\n",
       "      <td>1</td>\n",
       "      <td>1</td>\n",
       "    </tr>\n",
       "    <tr>\n",
       "      <th>maximum_nights</th>\n",
       "      <td>30</td>\n",
       "      <td>1125</td>\n",
       "      <td>365</td>\n",
       "      <td>1125</td>\n",
       "      <td>1125</td>\n",
       "    </tr>\n",
       "    <tr>\n",
       "      <th>minimum_nights</th>\n",
       "      <td>2</td>\n",
       "      <td>2</td>\n",
       "      <td>3</td>\n",
       "      <td>14</td>\n",
       "      <td>1</td>\n",
       "    </tr>\n",
       "    <tr>\n",
       "      <th>number_of_reviews</th>\n",
       "      <td>51</td>\n",
       "      <td>0</td>\n",
       "      <td>96</td>\n",
       "      <td>1</td>\n",
       "      <td>0</td>\n",
       "    </tr>\n",
       "    <tr>\n",
       "      <th>property_type</th>\n",
       "      <td>House</td>\n",
       "      <td>Apartment</td>\n",
       "      <td>Condominium</td>\n",
       "      <td>Apartment</td>\n",
       "      <td>Apartment</td>\n",
       "    </tr>\n",
       "    <tr>\n",
       "      <th>room_type</th>\n",
       "      <td>Entire home/apt</td>\n",
       "      <td>Entire home/apt</td>\n",
       "      <td>Entire home/apt</td>\n",
       "      <td>Private room</td>\n",
       "      <td>Private room</td>\n",
       "    </tr>\n",
       "    <tr>\n",
       "      <th>availability</th>\n",
       "      <td>{'availability_30': 28, 'availability_60': 47,...</td>\n",
       "      <td>{'availability_30': 0, 'availability_60': 0, '...</td>\n",
       "      <td>{'availability_30': 16, 'availability_60': 46,...</td>\n",
       "      <td>{'availability_30': 0, 'availability_60': 0, '...</td>\n",
       "      <td>{'availability_30': 28, 'availability_60': 58,...</td>\n",
       "    </tr>\n",
       "    <tr>\n",
       "      <th>review_scores</th>\n",
       "      <td>89.0</td>\n",
       "      <td>0.0</td>\n",
       "      <td>84.0</td>\n",
       "      <td>100.0</td>\n",
       "      <td>0.0</td>\n",
       "    </tr>\n",
       "    <tr>\n",
       "      <th>host_id</th>\n",
       "      <td>51399391</td>\n",
       "      <td>1282196</td>\n",
       "      <td>5448114</td>\n",
       "      <td>11275734</td>\n",
       "      <td>51496939</td>\n",
       "    </tr>\n",
       "    <tr>\n",
       "      <th>host_name</th>\n",
       "      <td>Ana&amp;Gonçalo</td>\n",
       "      <td>Ynaie</td>\n",
       "      <td>David</td>\n",
       "      <td>Josh</td>\n",
       "      <td>Livia</td>\n",
       "    </tr>\n",
       "    <tr>\n",
       "      <th>street</th>\n",
       "      <td>Porto, Porto, Portugal</td>\n",
       "      <td>Rio de Janeiro, Rio de Janeiro, Brazil</td>\n",
       "      <td>Honolulu, HI, United States</td>\n",
       "      <td>Brooklyn, NY, United States</td>\n",
       "      <td>Rio de Janeiro, Rio de Janeiro, Brazil</td>\n",
       "    </tr>\n",
       "    <tr>\n",
       "      <th>suburb</th>\n",
       "      <td>NaN</td>\n",
       "      <td>Jardim Botânico</td>\n",
       "      <td>Oʻahu</td>\n",
       "      <td>Brooklyn</td>\n",
       "      <td>Lagoa</td>\n",
       "    </tr>\n",
       "    <tr>\n",
       "      <th>government_area</th>\n",
       "      <td>Cedofeita, Ildefonso, Sé, Miragaia, Nicolau, V...</td>\n",
       "      <td>Jardim Botânico</td>\n",
       "      <td>Primary Urban Center</td>\n",
       "      <td>Bushwick</td>\n",
       "      <td>Lagoa</td>\n",
       "    </tr>\n",
       "    <tr>\n",
       "      <th>market</th>\n",
       "      <td>Porto</td>\n",
       "      <td>Rio De Janeiro</td>\n",
       "      <td>Oahu</td>\n",
       "      <td>New York</td>\n",
       "      <td>Rio De Janeiro</td>\n",
       "    </tr>\n",
       "    <tr>\n",
       "      <th>country</th>\n",
       "      <td>Portugal</td>\n",
       "      <td>Brazil</td>\n",
       "      <td>United States</td>\n",
       "      <td>United States</td>\n",
       "      <td>Brazil</td>\n",
       "    </tr>\n",
       "    <tr>\n",
       "      <th>country_code</th>\n",
       "      <td>PT</td>\n",
       "      <td>BR</td>\n",
       "      <td>US</td>\n",
       "      <td>US</td>\n",
       "      <td>BR</td>\n",
       "    </tr>\n",
       "    <tr>\n",
       "      <th>location</th>\n",
       "      <td>{'type': 'Point', 'coordinates': [-8.61308, 41...</td>\n",
       "      <td>{'type': 'Point', 'coordinates': [-43.23074991...</td>\n",
       "      <td>{'type': 'Point', 'coordinates': [-157.83919, ...</td>\n",
       "      <td>{'type': 'Point', 'coordinates': [-73.93615, 4...</td>\n",
       "      <td>{'type': 'Point', 'coordinates': [-43.20504708...</td>\n",
       "    </tr>\n",
       "    <tr>\n",
       "      <th>availability_30</th>\n",
       "      <td>28</td>\n",
       "      <td>0</td>\n",
       "      <td>16</td>\n",
       "      <td>0</td>\n",
       "      <td>28</td>\n",
       "    </tr>\n",
       "    <tr>\n",
       "      <th>availability_60</th>\n",
       "      <td>47</td>\n",
       "      <td>0</td>\n",
       "      <td>46</td>\n",
       "      <td>0</td>\n",
       "      <td>58</td>\n",
       "    </tr>\n",
       "    <tr>\n",
       "      <th>availability_90</th>\n",
       "      <td>74</td>\n",
       "      <td>0</td>\n",
       "      <td>76</td>\n",
       "      <td>0</td>\n",
       "      <td>88</td>\n",
       "    </tr>\n",
       "    <tr>\n",
       "      <th>availability_365</th>\n",
       "      <td>239</td>\n",
       "      <td>0</td>\n",
       "      <td>343</td>\n",
       "      <td>0</td>\n",
       "      <td>363</td>\n",
       "    </tr>\n",
       "    <tr>\n",
       "      <th>latitude</th>\n",
       "      <td>41.1413</td>\n",
       "      <td>-22.966254</td>\n",
       "      <td>21.28634</td>\n",
       "      <td>40.69791</td>\n",
       "      <td>-22.971951</td>\n",
       "    </tr>\n",
       "    <tr>\n",
       "      <th>longitude</th>\n",
       "      <td>-8.61308</td>\n",
       "      <td>-43.23075</td>\n",
       "      <td>-157.83919</td>\n",
       "      <td>-73.93615</td>\n",
       "      <td>-43.205047</td>\n",
       "    </tr>\n",
       "  </tbody>\n",
       "</table>\n",
       "</div>"
      ],
      "text/plain": [
       "                                                                   0  \\\n",
       "_id                                                         10006546   \n",
       "name                                         Ribeira Charming Duplex   \n",
       "description        Fantastic duplex apartment with three bedrooms...   \n",
       "price                                                           80.0   \n",
       "amenities          ['TV', 'Cable TV', 'Wifi', 'Kitchen', 'Paid pa...   \n",
       "bedrooms                                                         3.0   \n",
       "beds                                                             5.0   \n",
       "cleaning_fee                                                    35.0   \n",
       "guests_included                                                    6   \n",
       "maximum_nights                                                    30   \n",
       "minimum_nights                                                     2   \n",
       "number_of_reviews                                                 51   \n",
       "property_type                                                  House   \n",
       "room_type                                            Entire home/apt   \n",
       "availability       {'availability_30': 28, 'availability_60': 47,...   \n",
       "review_scores                                                   89.0   \n",
       "host_id                                                     51399391   \n",
       "host_name                                                Ana&Gonçalo   \n",
       "street                                        Porto, Porto, Portugal   \n",
       "suburb                                                           NaN   \n",
       "government_area    Cedofeita, Ildefonso, Sé, Miragaia, Nicolau, V...   \n",
       "market                                                         Porto   \n",
       "country                                                     Portugal   \n",
       "country_code                                                      PT   \n",
       "location           {'type': 'Point', 'coordinates': [-8.61308, 41...   \n",
       "availability_30                                                   28   \n",
       "availability_60                                                   47   \n",
       "availability_90                                                   74   \n",
       "availability_365                                                 239   \n",
       "latitude                                                     41.1413   \n",
       "longitude                                                   -8.61308   \n",
       "\n",
       "                                                                   1  \\\n",
       "_id                                                         10009999   \n",
       "name                                    Horto flat with small garden   \n",
       "description        One bedroom + sofa-bed in quiet and bucolic ne...   \n",
       "price                                                          317.0   \n",
       "amenities          ['Wifi', 'Wheelchair accessible', 'Kitchen', '...   \n",
       "bedrooms                                                         1.0   \n",
       "beds                                                             2.0   \n",
       "cleaning_fee                                                   187.0   \n",
       "guests_included                                                    1   \n",
       "maximum_nights                                                  1125   \n",
       "minimum_nights                                                     2   \n",
       "number_of_reviews                                                  0   \n",
       "property_type                                              Apartment   \n",
       "room_type                                            Entire home/apt   \n",
       "availability       {'availability_30': 0, 'availability_60': 0, '...   \n",
       "review_scores                                                    0.0   \n",
       "host_id                                                      1282196   \n",
       "host_name                                                      Ynaie   \n",
       "street                        Rio de Janeiro, Rio de Janeiro, Brazil   \n",
       "suburb                                               Jardim Botânico   \n",
       "government_area                                      Jardim Botânico   \n",
       "market                                                Rio De Janeiro   \n",
       "country                                                       Brazil   \n",
       "country_code                                                      BR   \n",
       "location           {'type': 'Point', 'coordinates': [-43.23074991...   \n",
       "availability_30                                                    0   \n",
       "availability_60                                                    0   \n",
       "availability_90                                                    0   \n",
       "availability_365                                                   0   \n",
       "latitude                                                  -22.966254   \n",
       "longitude                                                  -43.23075   \n",
       "\n",
       "                                                                   2  \\\n",
       "_id                                                          1001265   \n",
       "name                                Ocean View Waikiki Marina w/prkg   \n",
       "description        A short distance from Honolulu's billion dolla...   \n",
       "price                                                          115.0   \n",
       "amenities          ['TV', 'Cable TV', 'Wifi', 'Air conditioning',...   \n",
       "bedrooms                                                         1.0   \n",
       "beds                                                             1.0   \n",
       "cleaning_fee                                                   100.0   \n",
       "guests_included                                                    1   \n",
       "maximum_nights                                                   365   \n",
       "minimum_nights                                                     3   \n",
       "number_of_reviews                                                 96   \n",
       "property_type                                            Condominium   \n",
       "room_type                                            Entire home/apt   \n",
       "availability       {'availability_30': 16, 'availability_60': 46,...   \n",
       "review_scores                                                   84.0   \n",
       "host_id                                                      5448114   \n",
       "host_name                                                      David   \n",
       "street                                   Honolulu, HI, United States   \n",
       "suburb                                                         Oʻahu   \n",
       "government_area                                 Primary Urban Center   \n",
       "market                                                          Oahu   \n",
       "country                                                United States   \n",
       "country_code                                                      US   \n",
       "location           {'type': 'Point', 'coordinates': [-157.83919, ...   \n",
       "availability_30                                                   16   \n",
       "availability_60                                                   46   \n",
       "availability_90                                                   76   \n",
       "availability_365                                                 343   \n",
       "latitude                                                    21.28634   \n",
       "longitude                                                 -157.83919   \n",
       "\n",
       "                                                                   3  \\\n",
       "_id                                                         10021707   \n",
       "name                                        Private Room in Bushwick   \n",
       "description        Here exists a very cozy room for rent in a sha...   \n",
       "price                                                           40.0   \n",
       "amenities          ['Internet', 'Wifi', 'Air conditioning', 'Kitc...   \n",
       "bedrooms                                                         1.0   \n",
       "beds                                                             1.0   \n",
       "cleaning_fee                                                     0.0   \n",
       "guests_included                                                    1   \n",
       "maximum_nights                                                  1125   \n",
       "minimum_nights                                                    14   \n",
       "number_of_reviews                                                  1   \n",
       "property_type                                              Apartment   \n",
       "room_type                                               Private room   \n",
       "availability       {'availability_30': 0, 'availability_60': 0, '...   \n",
       "review_scores                                                  100.0   \n",
       "host_id                                                     11275734   \n",
       "host_name                                                       Josh   \n",
       "street                                   Brooklyn, NY, United States   \n",
       "suburb                                                      Brooklyn   \n",
       "government_area                                             Bushwick   \n",
       "market                                                      New York   \n",
       "country                                                United States   \n",
       "country_code                                                      US   \n",
       "location           {'type': 'Point', 'coordinates': [-73.93615, 4...   \n",
       "availability_30                                                    0   \n",
       "availability_60                                                    0   \n",
       "availability_90                                                    0   \n",
       "availability_365                                                   0   \n",
       "latitude                                                    40.69791   \n",
       "longitude                                                  -73.93615   \n",
       "\n",
       "                                                                   4  \n",
       "_id                                                         10030955  \n",
       "name                                     Apt Linda Vista Lagoa - Rio  \n",
       "description        Quarto com vista para a Lagoa Rodrigo de Freit...  \n",
       "price                                                          701.0  \n",
       "amenities          ['TV', 'Cable TV', 'Internet', 'Wifi', 'Air co...  \n",
       "bedrooms                                                         1.0  \n",
       "beds                                                             1.0  \n",
       "cleaning_fee                                                   250.0  \n",
       "guests_included                                                    1  \n",
       "maximum_nights                                                  1125  \n",
       "minimum_nights                                                     1  \n",
       "number_of_reviews                                                  0  \n",
       "property_type                                              Apartment  \n",
       "room_type                                               Private room  \n",
       "availability       {'availability_30': 28, 'availability_60': 58,...  \n",
       "review_scores                                                    0.0  \n",
       "host_id                                                     51496939  \n",
       "host_name                                                      Livia  \n",
       "street                        Rio de Janeiro, Rio de Janeiro, Brazil  \n",
       "suburb                                                         Lagoa  \n",
       "government_area                                                Lagoa  \n",
       "market                                                Rio De Janeiro  \n",
       "country                                                       Brazil  \n",
       "country_code                                                      BR  \n",
       "location           {'type': 'Point', 'coordinates': [-43.20504708...  \n",
       "availability_30                                                   28  \n",
       "availability_60                                                   58  \n",
       "availability_90                                                   88  \n",
       "availability_365                                                 363  \n",
       "latitude                                                  -22.971951  \n",
       "longitude                                                 -43.205047  "
      ]
     },
     "execution_count": 3,
     "metadata": {},
     "output_type": "execute_result"
    }
   ],
   "source": [
    "df.head().T"
   ]
  },
  {
   "cell_type": "code",
   "execution_count": 4,
   "id": "ee1bde28-ded1-4aa6-8a27-db7d506c611c",
   "metadata": {},
   "outputs": [
    {
     "data": {
      "text/plain": [
       "(5545, 31)"
      ]
     },
     "execution_count": 4,
     "metadata": {},
     "output_type": "execute_result"
    }
   ],
   "source": [
    "df.shape"
   ]
  },
  {
   "cell_type": "code",
   "execution_count": 5,
   "id": "4e45ed07-3c79-4354-bf31-06539abaad31",
   "metadata": {},
   "outputs": [
    {
     "data": {
      "text/html": [
       "<div>\n",
       "<style scoped>\n",
       "    .dataframe tbody tr th:only-of-type {\n",
       "        vertical-align: middle;\n",
       "    }\n",
       "\n",
       "    .dataframe tbody tr th {\n",
       "        vertical-align: top;\n",
       "    }\n",
       "\n",
       "    .dataframe thead th {\n",
       "        text-align: right;\n",
       "    }\n",
       "</style>\n",
       "<table border=\"1\" class=\"dataframe\">\n",
       "  <thead>\n",
       "    <tr style=\"text-align: right;\">\n",
       "      <th></th>\n",
       "      <th>_id</th>\n",
       "      <th>price</th>\n",
       "      <th>bedrooms</th>\n",
       "      <th>beds</th>\n",
       "      <th>cleaning_fee</th>\n",
       "      <th>guests_included</th>\n",
       "      <th>maximum_nights</th>\n",
       "      <th>minimum_nights</th>\n",
       "      <th>number_of_reviews</th>\n",
       "      <th>review_scores</th>\n",
       "      <th>host_id</th>\n",
       "      <th>availability_30</th>\n",
       "      <th>availability_60</th>\n",
       "      <th>availability_90</th>\n",
       "      <th>availability_365</th>\n",
       "      <th>latitude</th>\n",
       "      <th>longitude</th>\n",
       "    </tr>\n",
       "  </thead>\n",
       "  <tbody>\n",
       "    <tr>\n",
       "      <th>count</th>\n",
       "      <td>5.545000e+03</td>\n",
       "      <td>5545.000000</td>\n",
       "      <td>5545.000000</td>\n",
       "      <td>5545.000000</td>\n",
       "      <td>5545.000000</td>\n",
       "      <td>5545.000000</td>\n",
       "      <td>5.545000e+03</td>\n",
       "      <td>5545.000000</td>\n",
       "      <td>5545.00000</td>\n",
       "      <td>5545.000000</td>\n",
       "      <td>5.545000e+03</td>\n",
       "      <td>5545.000000</td>\n",
       "      <td>5545.000000</td>\n",
       "      <td>5545.000000</td>\n",
       "      <td>5545.000000</td>\n",
       "      <td>5545.000000</td>\n",
       "      <td>5545.000000</td>\n",
       "    </tr>\n",
       "    <tr>\n",
       "      <th>mean</th>\n",
       "      <td>1.664790e+07</td>\n",
       "      <td>278.541749</td>\n",
       "      <td>1.532552</td>\n",
       "      <td>2.078629</td>\n",
       "      <td>68.167538</td>\n",
       "      <td>1.747881</td>\n",
       "      <td>1.385268e+06</td>\n",
       "      <td>5.560325</td>\n",
       "      <td>27.56321</td>\n",
       "      <td>68.381605</td>\n",
       "      <td>6.514561e+07</td>\n",
       "      <td>11.809558</td>\n",
       "      <td>26.441839</td>\n",
       "      <td>42.744995</td>\n",
       "      <td>173.008296</td>\n",
       "      <td>22.081308</td>\n",
       "      <td>-6.694579</td>\n",
       "    </tr>\n",
       "    <tr>\n",
       "      <th>std</th>\n",
       "      <td>9.622412e+06</td>\n",
       "      <td>842.167507</td>\n",
       "      <td>0.964969</td>\n",
       "      <td>1.614314</td>\n",
       "      <td>102.842552</td>\n",
       "      <td>1.488504</td>\n",
       "      <td>5.261656e+07</td>\n",
       "      <td>22.629091</td>\n",
       "      <td>49.76575</td>\n",
       "      <td>41.834783</td>\n",
       "      <td>6.820153e+07</td>\n",
       "      <td>11.687110</td>\n",
       "      <td>23.478719</td>\n",
       "      <td>35.231075</td>\n",
       "      <td>139.837733</td>\n",
       "      <td>28.070424</td>\n",
       "      <td>90.488985</td>\n",
       "    </tr>\n",
       "    <tr>\n",
       "      <th>min</th>\n",
       "      <td>1.170800e+04</td>\n",
       "      <td>9.000000</td>\n",
       "      <td>1.000000</td>\n",
       "      <td>1.000000</td>\n",
       "      <td>0.000000</td>\n",
       "      <td>1.000000</td>\n",
       "      <td>1.000000e+00</td>\n",
       "      <td>1.000000</td>\n",
       "      <td>0.00000</td>\n",
       "      <td>0.000000</td>\n",
       "      <td>2.787000e+03</td>\n",
       "      <td>0.000000</td>\n",
       "      <td>0.000000</td>\n",
       "      <td>0.000000</td>\n",
       "      <td>0.000000</td>\n",
       "      <td>-34.088290</td>\n",
       "      <td>-159.678690</td>\n",
       "    </tr>\n",
       "    <tr>\n",
       "      <th>25%</th>\n",
       "      <td>8.386906e+06</td>\n",
       "      <td>70.000000</td>\n",
       "      <td>1.000000</td>\n",
       "      <td>1.000000</td>\n",
       "      <td>0.000000</td>\n",
       "      <td>1.000000</td>\n",
       "      <td>5.600000e+01</td>\n",
       "      <td>1.000000</td>\n",
       "      <td>1.00000</td>\n",
       "      <td>0.000000</td>\n",
       "      <td>1.023719e+07</td>\n",
       "      <td>0.000000</td>\n",
       "      <td>0.000000</td>\n",
       "      <td>0.000000</td>\n",
       "      <td>17.000000</td>\n",
       "      <td>20.725750</td>\n",
       "      <td>-73.599290</td>\n",
       "    </tr>\n",
       "    <tr>\n",
       "      <th>50%</th>\n",
       "      <td>1.711362e+07</td>\n",
       "      <td>129.000000</td>\n",
       "      <td>1.000000</td>\n",
       "      <td>2.000000</td>\n",
       "      <td>30.000000</td>\n",
       "      <td>1.000000</td>\n",
       "      <td>1.125000e+03</td>\n",
       "      <td>2.000000</td>\n",
       "      <td>5.00000</td>\n",
       "      <td>92.000000</td>\n",
       "      <td>3.725685e+07</td>\n",
       "      <td>8.000000</td>\n",
       "      <td>23.000000</td>\n",
       "      <td>43.000000</td>\n",
       "      <td>171.000000</td>\n",
       "      <td>40.727410</td>\n",
       "      <td>-8.611510</td>\n",
       "    </tr>\n",
       "    <tr>\n",
       "      <th>75%</th>\n",
       "      <td>2.461581e+07</td>\n",
       "      <td>281.000000</td>\n",
       "      <td>2.000000</td>\n",
       "      <td>3.000000</td>\n",
       "      <td>100.000000</td>\n",
       "      <td>2.000000</td>\n",
       "      <td>1.125000e+03</td>\n",
       "      <td>3.000000</td>\n",
       "      <td>32.00000</td>\n",
       "      <td>98.000000</td>\n",
       "      <td>1.047023e+08</td>\n",
       "      <td>24.000000</td>\n",
       "      <td>52.000000</td>\n",
       "      <td>80.000000</td>\n",
       "      <td>317.000000</td>\n",
       "      <td>41.163150</td>\n",
       "      <td>29.019250</td>\n",
       "    </tr>\n",
       "    <tr>\n",
       "      <th>max</th>\n",
       "      <td>3.295874e+07</td>\n",
       "      <td>48842.000000</td>\n",
       "      <td>20.000000</td>\n",
       "      <td>25.000000</td>\n",
       "      <td>2000.000000</td>\n",
       "      <td>16.000000</td>\n",
       "      <td>2.147484e+09</td>\n",
       "      <td>1250.000000</td>\n",
       "      <td>533.00000</td>\n",
       "      <td>100.000000</td>\n",
       "      <td>2.477517e+08</td>\n",
       "      <td>30.000000</td>\n",
       "      <td>60.000000</td>\n",
       "      <td>90.000000</td>\n",
       "      <td>365.000000</td>\n",
       "      <td>45.665630</td>\n",
       "      <td>151.338980</td>\n",
       "    </tr>\n",
       "  </tbody>\n",
       "</table>\n",
       "</div>"
      ],
      "text/plain": [
       "                _id         price     bedrooms         beds  cleaning_fee  \\\n",
       "count  5.545000e+03   5545.000000  5545.000000  5545.000000   5545.000000   \n",
       "mean   1.664790e+07    278.541749     1.532552     2.078629     68.167538   \n",
       "std    9.622412e+06    842.167507     0.964969     1.614314    102.842552   \n",
       "min    1.170800e+04      9.000000     1.000000     1.000000      0.000000   \n",
       "25%    8.386906e+06     70.000000     1.000000     1.000000      0.000000   \n",
       "50%    1.711362e+07    129.000000     1.000000     2.000000     30.000000   \n",
       "75%    2.461581e+07    281.000000     2.000000     3.000000    100.000000   \n",
       "max    3.295874e+07  48842.000000    20.000000    25.000000   2000.000000   \n",
       "\n",
       "       guests_included  maximum_nights  minimum_nights  number_of_reviews  \\\n",
       "count      5545.000000    5.545000e+03     5545.000000         5545.00000   \n",
       "mean          1.747881    1.385268e+06        5.560325           27.56321   \n",
       "std           1.488504    5.261656e+07       22.629091           49.76575   \n",
       "min           1.000000    1.000000e+00        1.000000            0.00000   \n",
       "25%           1.000000    5.600000e+01        1.000000            1.00000   \n",
       "50%           1.000000    1.125000e+03        2.000000            5.00000   \n",
       "75%           2.000000    1.125000e+03        3.000000           32.00000   \n",
       "max          16.000000    2.147484e+09     1250.000000          533.00000   \n",
       "\n",
       "       review_scores       host_id  availability_30  availability_60  \\\n",
       "count    5545.000000  5.545000e+03      5545.000000      5545.000000   \n",
       "mean       68.381605  6.514561e+07        11.809558        26.441839   \n",
       "std        41.834783  6.820153e+07        11.687110        23.478719   \n",
       "min         0.000000  2.787000e+03         0.000000         0.000000   \n",
       "25%         0.000000  1.023719e+07         0.000000         0.000000   \n",
       "50%        92.000000  3.725685e+07         8.000000        23.000000   \n",
       "75%        98.000000  1.047023e+08        24.000000        52.000000   \n",
       "max       100.000000  2.477517e+08        30.000000        60.000000   \n",
       "\n",
       "       availability_90  availability_365     latitude    longitude  \n",
       "count      5545.000000       5545.000000  5545.000000  5545.000000  \n",
       "mean         42.744995        173.008296    22.081308    -6.694579  \n",
       "std          35.231075        139.837733    28.070424    90.488985  \n",
       "min           0.000000          0.000000   -34.088290  -159.678690  \n",
       "25%           0.000000         17.000000    20.725750   -73.599290  \n",
       "50%          43.000000        171.000000    40.727410    -8.611510  \n",
       "75%          80.000000        317.000000    41.163150    29.019250  \n",
       "max          90.000000        365.000000    45.665630   151.338980  "
      ]
     },
     "execution_count": 5,
     "metadata": {},
     "output_type": "execute_result"
    }
   ],
   "source": [
    "df.describe()"
   ]
  },
  {
   "cell_type": "code",
   "execution_count": 6,
   "id": "bf887627-f423-4dbe-af60-3c51cd244a87",
   "metadata": {},
   "outputs": [
    {
     "name": "stdout",
     "output_type": "stream",
     "text": [
      "<class 'pandas.core.frame.DataFrame'>\n",
      "RangeIndex: 5545 entries, 0 to 5544\n",
      "Data columns (total 31 columns):\n",
      " #   Column             Non-Null Count  Dtype  \n",
      "---  ------             --------------  -----  \n",
      " 0   _id                5545 non-null   int64  \n",
      " 1   name               5537 non-null   object \n",
      " 2   description        5450 non-null   object \n",
      " 3   price              5545 non-null   float64\n",
      " 4   amenities          5545 non-null   object \n",
      " 5   bedrooms           5545 non-null   float64\n",
      " 6   beds               5545 non-null   float64\n",
      " 7   cleaning_fee       5545 non-null   float64\n",
      " 8   guests_included    5545 non-null   int64  \n",
      " 9   maximum_nights     5545 non-null   int64  \n",
      " 10  minimum_nights     5545 non-null   int64  \n",
      " 11  number_of_reviews  5545 non-null   int64  \n",
      " 12  property_type      5545 non-null   object \n",
      " 13  room_type          5545 non-null   object \n",
      " 14  availability       5545 non-null   object \n",
      " 15  review_scores      5545 non-null   float64\n",
      " 16  host_id            5545 non-null   int64  \n",
      " 17  host_name          5545 non-null   object \n",
      " 18  street             5545 non-null   object \n",
      " 19  suburb             4660 non-null   object \n",
      " 20  government_area    5545 non-null   object \n",
      " 21  market             5539 non-null   object \n",
      " 22  country            5545 non-null   object \n",
      " 23  country_code       5545 non-null   object \n",
      " 24  location           5545 non-null   object \n",
      " 25  availability_30    5545 non-null   int64  \n",
      " 26  availability_60    5545 non-null   int64  \n",
      " 27  availability_90    5545 non-null   int64  \n",
      " 28  availability_365   5545 non-null   int64  \n",
      " 29  latitude           5545 non-null   float64\n",
      " 30  longitude          5545 non-null   float64\n",
      "dtypes: float64(7), int64(10), object(14)\n",
      "memory usage: 1.3+ MB\n"
     ]
    }
   ],
   "source": [
    "df.info()"
   ]
  },
  {
   "cell_type": "code",
   "execution_count": 7,
   "id": "6d098428-ee99-4875-aa2f-6a8dffc9d5b3",
   "metadata": {},
   "outputs": [
    {
     "data": {
      "text/plain": [
       "array(['Portugal', 'Brazil', 'United States', 'Turkey', 'Canada',\n",
       "       'Hong Kong', 'Spain', 'Australia', 'China'], dtype=object)"
      ]
     },
     "execution_count": 7,
     "metadata": {},
     "output_type": "execute_result"
    }
   ],
   "source": [
    "df.country.unique()"
   ]
  },
  {
   "cell_type": "markdown",
   "id": "7dbb78e9-f257-462b-8405-8049f5d413fc",
   "metadata": {},
   "source": [
    "# Outliers- Portugal properties"
   ]
  },
  {
   "cell_type": "code",
   "execution_count": 103,
   "id": "d5e449ce-0b70-4907-9c83-cac7d054ee27",
   "metadata": {},
   "outputs": [
    {
     "data": {
      "text/html": [
       "<div>\n",
       "<style scoped>\n",
       "    .dataframe tbody tr th:only-of-type {\n",
       "        vertical-align: middle;\n",
       "    }\n",
       "\n",
       "    .dataframe tbody tr th {\n",
       "        vertical-align: top;\n",
       "    }\n",
       "\n",
       "    .dataframe thead th {\n",
       "        text-align: right;\n",
       "    }\n",
       "</style>\n",
       "<table border=\"1\" class=\"dataframe\">\n",
       "  <thead>\n",
       "    <tr style=\"text-align: right;\">\n",
       "      <th></th>\n",
       "      <th>price</th>\n",
       "      <th>count</th>\n",
       "    </tr>\n",
       "  </thead>\n",
       "  <tbody>\n",
       "    <tr>\n",
       "      <th>0</th>\n",
       "      <td>300.0</td>\n",
       "      <td>2</td>\n",
       "    </tr>\n",
       "    <tr>\n",
       "      <th>1</th>\n",
       "      <td>220.0</td>\n",
       "      <td>1</td>\n",
       "    </tr>\n",
       "    <tr>\n",
       "      <th>2</th>\n",
       "      <td>209.0</td>\n",
       "      <td>1</td>\n",
       "    </tr>\n",
       "    <tr>\n",
       "      <th>3</th>\n",
       "      <td>500.0</td>\n",
       "      <td>1</td>\n",
       "    </tr>\n",
       "  </tbody>\n",
       "</table>\n",
       "</div>"
      ],
      "text/plain": [
       "   price  count\n",
       "0  300.0      2\n",
       "1  220.0      1\n",
       "2  209.0      1\n",
       "3  500.0      1"
      ]
     },
     "execution_count": 103,
     "metadata": {},
     "output_type": "execute_result"
    }
   ],
   "source": [
    "df [ ( df['country'] == 'Portugal') & (df['property_type'] == 'Apartment') & (df['price'] > 200)]['price'].value_counts().reset_index()"
   ]
  },
  {
   "cell_type": "markdown",
   "id": "8f815769-9efa-4c5a-adc1-ca30e4cd9453",
   "metadata": {},
   "source": [
    "# Outliers- Brazil properties"
   ]
  },
  {
   "cell_type": "code",
   "execution_count": 25,
   "id": "46103df1-8681-4e9e-b42b-25e1e573f205",
   "metadata": {},
   "outputs": [
    {
     "data": {
      "text/html": [
       "<div>\n",
       "<style scoped>\n",
       "    .dataframe tbody tr th:only-of-type {\n",
       "        vertical-align: middle;\n",
       "    }\n",
       "\n",
       "    .dataframe tbody tr th {\n",
       "        vertical-align: top;\n",
       "    }\n",
       "\n",
       "    .dataframe thead th {\n",
       "        text-align: right;\n",
       "    }\n",
       "</style>\n",
       "<table border=\"1\" class=\"dataframe\">\n",
       "  <thead>\n",
       "    <tr style=\"text-align: right;\">\n",
       "      <th></th>\n",
       "      <th>price</th>\n",
       "      <th>count</th>\n",
       "    </tr>\n",
       "  </thead>\n",
       "  <tbody>\n",
       "    <tr>\n",
       "      <th>0</th>\n",
       "      <td>3499.0</td>\n",
       "      <td>1</td>\n",
       "    </tr>\n",
       "    <tr>\n",
       "      <th>1</th>\n",
       "      <td>11190.0</td>\n",
       "      <td>1</td>\n",
       "    </tr>\n",
       "    <tr>\n",
       "      <th>2</th>\n",
       "      <td>6002.0</td>\n",
       "      <td>1</td>\n",
       "    </tr>\n",
       "    <tr>\n",
       "      <th>3</th>\n",
       "      <td>4498.0</td>\n",
       "      <td>1</td>\n",
       "    </tr>\n",
       "    <tr>\n",
       "      <th>4</th>\n",
       "      <td>4103.0</td>\n",
       "      <td>1</td>\n",
       "    </tr>\n",
       "    <tr>\n",
       "      <th>5</th>\n",
       "      <td>3544.0</td>\n",
       "      <td>1</td>\n",
       "    </tr>\n",
       "  </tbody>\n",
       "</table>\n",
       "</div>"
      ],
      "text/plain": [
       "     price  count\n",
       "0   3499.0      1\n",
       "1  11190.0      1\n",
       "2   6002.0      1\n",
       "3   4498.0      1\n",
       "4   4103.0      1\n",
       "5   3544.0      1"
      ]
     },
     "execution_count": 25,
     "metadata": {},
     "output_type": "execute_result"
    }
   ],
   "source": [
    "df [ ( df['country'] == 'Brazil') & (df['property_type'] == 'Apartment') & (df['price'] > 3000)]['price'].value_counts().reset_index()"
   ]
  },
  {
   "cell_type": "code",
   "execution_count": 27,
   "id": "bf37775c-ee1e-4575-bbc7-c894e1beb0f3",
   "metadata": {},
   "outputs": [
    {
     "data": {
      "text/html": [
       "<div>\n",
       "<style scoped>\n",
       "    .dataframe tbody tr th:only-of-type {\n",
       "        vertical-align: middle;\n",
       "    }\n",
       "\n",
       "    .dataframe tbody tr th {\n",
       "        vertical-align: top;\n",
       "    }\n",
       "\n",
       "    .dataframe thead th {\n",
       "        text-align: right;\n",
       "    }\n",
       "</style>\n",
       "<table border=\"1\" class=\"dataframe\">\n",
       "  <thead>\n",
       "    <tr style=\"text-align: right;\">\n",
       "      <th></th>\n",
       "      <th>price</th>\n",
       "      <th>count</th>\n",
       "    </tr>\n",
       "  </thead>\n",
       "  <tbody>\n",
       "    <tr>\n",
       "      <th>0</th>\n",
       "      <td>5595.0</td>\n",
       "      <td>2</td>\n",
       "    </tr>\n",
       "    <tr>\n",
       "      <th>1</th>\n",
       "      <td>2999.0</td>\n",
       "      <td>2</td>\n",
       "    </tr>\n",
       "    <tr>\n",
       "      <th>2</th>\n",
       "      <td>3726.0</td>\n",
       "      <td>1</td>\n",
       "    </tr>\n",
       "    <tr>\n",
       "      <th>3</th>\n",
       "      <td>5502.0</td>\n",
       "      <td>1</td>\n",
       "    </tr>\n",
       "    <tr>\n",
       "      <th>4</th>\n",
       "      <td>3730.0</td>\n",
       "      <td>1</td>\n",
       "    </tr>\n",
       "  </tbody>\n",
       "</table>\n",
       "</div>"
      ],
      "text/plain": [
       "    price  count\n",
       "0  5595.0      2\n",
       "1  2999.0      2\n",
       "2  3726.0      1\n",
       "3  5502.0      1\n",
       "4  3730.0      1"
      ]
     },
     "execution_count": 27,
     "metadata": {},
     "output_type": "execute_result"
    }
   ],
   "source": [
    "df [ ( df['country'] == 'Brazil') & (df['property_type'] == 'House') & (df['price'] > 2500)]['price'].value_counts().reset_index()"
   ]
  },
  {
   "cell_type": "code",
   "execution_count": 28,
   "id": "200a778b-4fa6-4778-a913-be7170de2a9e",
   "metadata": {},
   "outputs": [
    {
     "data": {
      "text/html": [
       "<div>\n",
       "<style scoped>\n",
       "    .dataframe tbody tr th:only-of-type {\n",
       "        vertical-align: middle;\n",
       "    }\n",
       "\n",
       "    .dataframe tbody tr th {\n",
       "        vertical-align: top;\n",
       "    }\n",
       "\n",
       "    .dataframe thead th {\n",
       "        text-align: right;\n",
       "    }\n",
       "</style>\n",
       "<table border=\"1\" class=\"dataframe\">\n",
       "  <thead>\n",
       "    <tr style=\"text-align: right;\">\n",
       "      <th></th>\n",
       "      <th>price</th>\n",
       "      <th>count</th>\n",
       "    </tr>\n",
       "  </thead>\n",
       "  <tbody>\n",
       "    <tr>\n",
       "      <th>0</th>\n",
       "      <td>3301.0</td>\n",
       "      <td>1</td>\n",
       "    </tr>\n",
       "    <tr>\n",
       "      <th>1</th>\n",
       "      <td>3544.0</td>\n",
       "      <td>1</td>\n",
       "    </tr>\n",
       "  </tbody>\n",
       "</table>\n",
       "</div>"
      ],
      "text/plain": [
       "    price  count\n",
       "0  3301.0      1\n",
       "1  3544.0      1"
      ]
     },
     "execution_count": 28,
     "metadata": {},
     "output_type": "execute_result"
    }
   ],
   "source": [
    "df [ ( df['country'] == 'Brazil') & (df['property_type'] == 'Condominium') & (df['price'] > 2000)]['price'].value_counts().reset_index()"
   ]
  },
  {
   "cell_type": "code",
   "execution_count": 29,
   "id": "d514a964-b1cc-43d1-8e8f-95c9dd3ff403",
   "metadata": {},
   "outputs": [
    {
     "data": {
      "text/html": [
       "<div>\n",
       "<style scoped>\n",
       "    .dataframe tbody tr th:only-of-type {\n",
       "        vertical-align: middle;\n",
       "    }\n",
       "\n",
       "    .dataframe tbody tr th {\n",
       "        vertical-align: top;\n",
       "    }\n",
       "\n",
       "    .dataframe thead th {\n",
       "        text-align: right;\n",
       "    }\n",
       "</style>\n",
       "<table border=\"1\" class=\"dataframe\">\n",
       "  <thead>\n",
       "    <tr style=\"text-align: right;\">\n",
       "      <th></th>\n",
       "      <th>price</th>\n",
       "      <th>count</th>\n",
       "    </tr>\n",
       "  </thead>\n",
       "  <tbody>\n",
       "    <tr>\n",
       "      <th>0</th>\n",
       "      <td>560.0</td>\n",
       "      <td>1</td>\n",
       "    </tr>\n",
       "    <tr>\n",
       "      <th>1</th>\n",
       "      <td>2007.0</td>\n",
       "      <td>1</td>\n",
       "    </tr>\n",
       "  </tbody>\n",
       "</table>\n",
       "</div>"
      ],
      "text/plain": [
       "    price  count\n",
       "0   560.0      1\n",
       "1  2007.0      1"
      ]
     },
     "execution_count": 29,
     "metadata": {},
     "output_type": "execute_result"
    }
   ],
   "source": [
    "df [ ( df['country'] == 'Brazil') & (df['property_type'] == 'Loft') & (df['price'] > 400)]['price'].value_counts().reset_index()"
   ]
  },
  {
   "cell_type": "code",
   "execution_count": 30,
   "id": "933fc02e-8d4b-400d-a53d-5dfb1537c424",
   "metadata": {},
   "outputs": [
    {
     "data": {
      "text/html": [
       "<div>\n",
       "<style scoped>\n",
       "    .dataframe tbody tr th:only-of-type {\n",
       "        vertical-align: middle;\n",
       "    }\n",
       "\n",
       "    .dataframe tbody tr th {\n",
       "        vertical-align: top;\n",
       "    }\n",
       "\n",
       "    .dataframe thead th {\n",
       "        text-align: right;\n",
       "    }\n",
       "</style>\n",
       "<table border=\"1\" class=\"dataframe\">\n",
       "  <thead>\n",
       "    <tr style=\"text-align: right;\">\n",
       "      <th></th>\n",
       "      <th>price</th>\n",
       "      <th>count</th>\n",
       "    </tr>\n",
       "  </thead>\n",
       "  <tbody>\n",
       "    <tr>\n",
       "      <th>0</th>\n",
       "      <td>3253.0</td>\n",
       "      <td>1</td>\n",
       "    </tr>\n",
       "  </tbody>\n",
       "</table>\n",
       "</div>"
      ],
      "text/plain": [
       "    price  count\n",
       "0  3253.0      1"
      ]
     },
     "execution_count": 30,
     "metadata": {},
     "output_type": "execute_result"
    }
   ],
   "source": [
    "df [ ( df['country'] == 'Brazil') & (df['property_type'] == 'Serviced apartment') & (df['price'] > 1000)]['price'].value_counts().reset_index()"
   ]
  },
  {
   "cell_type": "markdown",
   "id": "e68a9673-c533-47b2-abad-660dda434628",
   "metadata": {},
   "source": [
    "# Outliers- US properties"
   ]
  },
  {
   "cell_type": "code",
   "execution_count": 31,
   "id": "ccaba171-10c4-4d5d-aeb2-ec9e948bf35a",
   "metadata": {},
   "outputs": [
    {
     "data": {
      "text/html": [
       "<div>\n",
       "<style scoped>\n",
       "    .dataframe tbody tr th:only-of-type {\n",
       "        vertical-align: middle;\n",
       "    }\n",
       "\n",
       "    .dataframe tbody tr th {\n",
       "        vertical-align: top;\n",
       "    }\n",
       "\n",
       "    .dataframe thead th {\n",
       "        text-align: right;\n",
       "    }\n",
       "</style>\n",
       "<table border=\"1\" class=\"dataframe\">\n",
       "  <thead>\n",
       "    <tr style=\"text-align: right;\">\n",
       "      <th></th>\n",
       "      <th>price</th>\n",
       "      <th>count</th>\n",
       "    </tr>\n",
       "  </thead>\n",
       "  <tbody>\n",
       "    <tr>\n",
       "      <th>0</th>\n",
       "      <td>1000.0</td>\n",
       "      <td>1</td>\n",
       "    </tr>\n",
       "    <tr>\n",
       "      <th>1</th>\n",
       "      <td>800.0</td>\n",
       "      <td>1</td>\n",
       "    </tr>\n",
       "    <tr>\n",
       "      <th>2</th>\n",
       "      <td>692.0</td>\n",
       "      <td>1</td>\n",
       "    </tr>\n",
       "    <tr>\n",
       "      <th>3</th>\n",
       "      <td>637.0</td>\n",
       "      <td>1</td>\n",
       "    </tr>\n",
       "    <tr>\n",
       "      <th>4</th>\n",
       "      <td>834.0</td>\n",
       "      <td>1</td>\n",
       "    </tr>\n",
       "  </tbody>\n",
       "</table>\n",
       "</div>"
      ],
      "text/plain": [
       "    price  count\n",
       "0  1000.0      1\n",
       "1   800.0      1\n",
       "2   692.0      1\n",
       "3   637.0      1\n",
       "4   834.0      1"
      ]
     },
     "execution_count": 31,
     "metadata": {},
     "output_type": "execute_result"
    }
   ],
   "source": [
    "df [ ( df['country'] == 'United States') & (df['property_type'] == 'Condominium') & (df['price'] > 600)]['price'].value_counts().reset_index()"
   ]
  },
  {
   "cell_type": "code",
   "execution_count": 35,
   "id": "ead790f0-84b6-46ef-8c31-bf584e5c319f",
   "metadata": {},
   "outputs": [
    {
     "data": {
      "text/html": [
       "<div>\n",
       "<style scoped>\n",
       "    .dataframe tbody tr th:only-of-type {\n",
       "        vertical-align: middle;\n",
       "    }\n",
       "\n",
       "    .dataframe tbody tr th {\n",
       "        vertical-align: top;\n",
       "    }\n",
       "\n",
       "    .dataframe thead th {\n",
       "        text-align: right;\n",
       "    }\n",
       "</style>\n",
       "<table border=\"1\" class=\"dataframe\">\n",
       "  <thead>\n",
       "    <tr style=\"text-align: right;\">\n",
       "      <th></th>\n",
       "      <th>price</th>\n",
       "      <th>count</th>\n",
       "    </tr>\n",
       "  </thead>\n",
       "  <tbody>\n",
       "    <tr>\n",
       "      <th>0</th>\n",
       "      <td>550.0</td>\n",
       "      <td>1</td>\n",
       "    </tr>\n",
       "    <tr>\n",
       "      <th>1</th>\n",
       "      <td>555.0</td>\n",
       "      <td>1</td>\n",
       "    </tr>\n",
       "    <tr>\n",
       "      <th>2</th>\n",
       "      <td>725.0</td>\n",
       "      <td>1</td>\n",
       "    </tr>\n",
       "    <tr>\n",
       "      <th>3</th>\n",
       "      <td>560.0</td>\n",
       "      <td>1</td>\n",
       "    </tr>\n",
       "  </tbody>\n",
       "</table>\n",
       "</div>"
      ],
      "text/plain": [
       "   price  count\n",
       "0  550.0      1\n",
       "1  555.0      1\n",
       "2  725.0      1\n",
       "3  560.0      1"
      ]
     },
     "execution_count": 35,
     "metadata": {},
     "output_type": "execute_result"
    }
   ],
   "source": [
    "df [ ( df['country'] == 'United States') & (df['property_type'] == 'Apartment') & (df['price'] > 500)]['price'].value_counts().reset_index()"
   ]
  },
  {
   "cell_type": "code",
   "execution_count": 36,
   "id": "f593397c-d675-4904-bf64-79ce5e493bf2",
   "metadata": {},
   "outputs": [
    {
     "data": {
      "text/html": [
       "<div>\n",
       "<style scoped>\n",
       "    .dataframe tbody tr th:only-of-type {\n",
       "        vertical-align: middle;\n",
       "    }\n",
       "\n",
       "    .dataframe tbody tr th {\n",
       "        vertical-align: top;\n",
       "    }\n",
       "\n",
       "    .dataframe thead th {\n",
       "        text-align: right;\n",
       "    }\n",
       "</style>\n",
       "<table border=\"1\" class=\"dataframe\">\n",
       "  <thead>\n",
       "    <tr style=\"text-align: right;\">\n",
       "      <th></th>\n",
       "      <th>price</th>\n",
       "      <th>count</th>\n",
       "    </tr>\n",
       "  </thead>\n",
       "  <tbody>\n",
       "    <tr>\n",
       "      <th>0</th>\n",
       "      <td>795.0</td>\n",
       "      <td>1</td>\n",
       "    </tr>\n",
       "    <tr>\n",
       "      <th>1</th>\n",
       "      <td>895.0</td>\n",
       "      <td>1</td>\n",
       "    </tr>\n",
       "    <tr>\n",
       "      <th>2</th>\n",
       "      <td>935.0</td>\n",
       "      <td>1</td>\n",
       "    </tr>\n",
       "    <tr>\n",
       "      <th>3</th>\n",
       "      <td>799.0</td>\n",
       "      <td>1</td>\n",
       "    </tr>\n",
       "    <tr>\n",
       "      <th>4</th>\n",
       "      <td>1100.0</td>\n",
       "      <td>1</td>\n",
       "    </tr>\n",
       "    <tr>\n",
       "      <th>5</th>\n",
       "      <td>1500.0</td>\n",
       "      <td>1</td>\n",
       "    </tr>\n",
       "    <tr>\n",
       "      <th>6</th>\n",
       "      <td>750.0</td>\n",
       "      <td>1</td>\n",
       "    </tr>\n",
       "    <tr>\n",
       "      <th>7</th>\n",
       "      <td>800.0</td>\n",
       "      <td>1</td>\n",
       "    </tr>\n",
       "    <tr>\n",
       "      <th>8</th>\n",
       "      <td>776.0</td>\n",
       "      <td>1</td>\n",
       "    </tr>\n",
       "    <tr>\n",
       "      <th>9</th>\n",
       "      <td>2060.0</td>\n",
       "      <td>1</td>\n",
       "    </tr>\n",
       "    <tr>\n",
       "      <th>10</th>\n",
       "      <td>745.0</td>\n",
       "      <td>1</td>\n",
       "    </tr>\n",
       "    <tr>\n",
       "      <th>11</th>\n",
       "      <td>1295.0</td>\n",
       "      <td>1</td>\n",
       "    </tr>\n",
       "    <tr>\n",
       "      <th>12</th>\n",
       "      <td>3250.0</td>\n",
       "      <td>1</td>\n",
       "    </tr>\n",
       "    <tr>\n",
       "      <th>13</th>\n",
       "      <td>1000.0</td>\n",
       "      <td>1</td>\n",
       "    </tr>\n",
       "    <tr>\n",
       "      <th>14</th>\n",
       "      <td>890.0</td>\n",
       "      <td>1</td>\n",
       "    </tr>\n",
       "    <tr>\n",
       "      <th>15</th>\n",
       "      <td>850.0</td>\n",
       "      <td>1</td>\n",
       "    </tr>\n",
       "  </tbody>\n",
       "</table>\n",
       "</div>"
      ],
      "text/plain": [
       "     price  count\n",
       "0    795.0      1\n",
       "1    895.0      1\n",
       "2    935.0      1\n",
       "3    799.0      1\n",
       "4   1100.0      1\n",
       "5   1500.0      1\n",
       "6    750.0      1\n",
       "7    800.0      1\n",
       "8    776.0      1\n",
       "9   2060.0      1\n",
       "10   745.0      1\n",
       "11  1295.0      1\n",
       "12  3250.0      1\n",
       "13  1000.0      1\n",
       "14   890.0      1\n",
       "15   850.0      1"
      ]
     },
     "execution_count": 36,
     "metadata": {},
     "output_type": "execute_result"
    }
   ],
   "source": [
    "df [ ( df['country'] == 'United States') & (df['property_type'] == 'House') & (df['price'] > 700)]['price'].value_counts().reset_index()"
   ]
  },
  {
   "cell_type": "code",
   "execution_count": 38,
   "id": "f4ff0bf4-8883-40b8-a766-0017405461bd",
   "metadata": {},
   "outputs": [
    {
     "data": {
      "text/html": [
       "<div>\n",
       "<style scoped>\n",
       "    .dataframe tbody tr th:only-of-type {\n",
       "        vertical-align: middle;\n",
       "    }\n",
       "\n",
       "    .dataframe tbody tr th {\n",
       "        vertical-align: top;\n",
       "    }\n",
       "\n",
       "    .dataframe thead th {\n",
       "        text-align: right;\n",
       "    }\n",
       "</style>\n",
       "<table border=\"1\" class=\"dataframe\">\n",
       "  <thead>\n",
       "    <tr style=\"text-align: right;\">\n",
       "      <th></th>\n",
       "      <th>price</th>\n",
       "      <th>count</th>\n",
       "    </tr>\n",
       "  </thead>\n",
       "  <tbody>\n",
       "    <tr>\n",
       "      <th>0</th>\n",
       "      <td>469.0</td>\n",
       "      <td>1</td>\n",
       "    </tr>\n",
       "  </tbody>\n",
       "</table>\n",
       "</div>"
      ],
      "text/plain": [
       "   price  count\n",
       "0  469.0      1"
      ]
     },
     "execution_count": 38,
     "metadata": {},
     "output_type": "execute_result"
    }
   ],
   "source": [
    "df [ ( df['country'] == 'United States') & (df['property_type'] == 'Bungalow') & (df['price'] > 300)]['price'].value_counts().reset_index()"
   ]
  },
  {
   "cell_type": "code",
   "execution_count": 40,
   "id": "031fe22c-1a5d-4f19-b143-8490e0587b34",
   "metadata": {},
   "outputs": [
    {
     "data": {
      "text/html": [
       "<div>\n",
       "<style scoped>\n",
       "    .dataframe tbody tr th:only-of-type {\n",
       "        vertical-align: middle;\n",
       "    }\n",
       "\n",
       "    .dataframe tbody tr th {\n",
       "        vertical-align: top;\n",
       "    }\n",
       "\n",
       "    .dataframe thead th {\n",
       "        text-align: right;\n",
       "    }\n",
       "</style>\n",
       "<table border=\"1\" class=\"dataframe\">\n",
       "  <thead>\n",
       "    <tr style=\"text-align: right;\">\n",
       "      <th></th>\n",
       "      <th>price</th>\n",
       "      <th>count</th>\n",
       "    </tr>\n",
       "  </thead>\n",
       "  <tbody>\n",
       "    <tr>\n",
       "      <th>0</th>\n",
       "      <td>2450.0</td>\n",
       "      <td>1</td>\n",
       "    </tr>\n",
       "  </tbody>\n",
       "</table>\n",
       "</div>"
      ],
      "text/plain": [
       "    price  count\n",
       "0  2450.0      1"
      ]
     },
     "execution_count": 40,
     "metadata": {},
     "output_type": "execute_result"
    }
   ],
   "source": [
    "df [ ( df['country'] == 'United States') & (df['property_type'] == 'Townhouse') & (df['price'] > 600)]['price'].value_counts().reset_index()"
   ]
  },
  {
   "cell_type": "code",
   "execution_count": 41,
   "id": "6c845578-b269-4dfe-8f18-01b7e12da371",
   "metadata": {},
   "outputs": [
    {
     "data": {
      "text/html": [
       "<div>\n",
       "<style scoped>\n",
       "    .dataframe tbody tr th:only-of-type {\n",
       "        vertical-align: middle;\n",
       "    }\n",
       "\n",
       "    .dataframe tbody tr th {\n",
       "        vertical-align: top;\n",
       "    }\n",
       "\n",
       "    .dataframe thead th {\n",
       "        text-align: right;\n",
       "    }\n",
       "</style>\n",
       "<table border=\"1\" class=\"dataframe\">\n",
       "  <thead>\n",
       "    <tr style=\"text-align: right;\">\n",
       "      <th></th>\n",
       "      <th>price</th>\n",
       "      <th>count</th>\n",
       "    </tr>\n",
       "  </thead>\n",
       "  <tbody>\n",
       "    <tr>\n",
       "      <th>0</th>\n",
       "      <td>500.0</td>\n",
       "      <td>1</td>\n",
       "    </tr>\n",
       "  </tbody>\n",
       "</table>\n",
       "</div>"
      ],
      "text/plain": [
       "   price  count\n",
       "0  500.0      1"
      ]
     },
     "execution_count": 41,
     "metadata": {},
     "output_type": "execute_result"
    }
   ],
   "source": [
    "df [ ( df['country'] == 'United States') & (df['property_type'] == 'Cottage') & (df['price'] > 400)]['price'].value_counts().reset_index()"
   ]
  },
  {
   "cell_type": "markdown",
   "id": "f1fe6d6c-cce9-4e4e-8ac7-4b12e581890a",
   "metadata": {},
   "source": [
    "# Outliers- Turkey properties"
   ]
  },
  {
   "cell_type": "code",
   "execution_count": 42,
   "id": "7525b72d-d27f-4728-8d18-0d8746fc217e",
   "metadata": {},
   "outputs": [
    {
     "data": {
      "text/html": [
       "<div>\n",
       "<style scoped>\n",
       "    .dataframe tbody tr th:only-of-type {\n",
       "        vertical-align: middle;\n",
       "    }\n",
       "\n",
       "    .dataframe tbody tr th {\n",
       "        vertical-align: top;\n",
       "    }\n",
       "\n",
       "    .dataframe thead th {\n",
       "        text-align: right;\n",
       "    }\n",
       "</style>\n",
       "<table border=\"1\" class=\"dataframe\">\n",
       "  <thead>\n",
       "    <tr style=\"text-align: right;\">\n",
       "      <th></th>\n",
       "      <th>price</th>\n",
       "      <th>count</th>\n",
       "    </tr>\n",
       "  </thead>\n",
       "  <tbody>\n",
       "    <tr>\n",
       "      <th>0</th>\n",
       "      <td>685.0</td>\n",
       "      <td>1</td>\n",
       "    </tr>\n",
       "    <tr>\n",
       "      <th>1</th>\n",
       "      <td>2636.0</td>\n",
       "      <td>1</td>\n",
       "    </tr>\n",
       "  </tbody>\n",
       "</table>\n",
       "</div>"
      ],
      "text/plain": [
       "    price  count\n",
       "0   685.0      1\n",
       "1  2636.0      1"
      ]
     },
     "execution_count": 42,
     "metadata": {},
     "output_type": "execute_result"
    }
   ],
   "source": [
    "df [ ( df['country'] == 'Turkey') & (df['property_type'] == 'House') & (df['price'] > 550)]['price'].value_counts().reset_index()"
   ]
  },
  {
   "cell_type": "code",
   "execution_count": 45,
   "id": "81bb9561-00b8-414c-83b2-b5f615ed2805",
   "metadata": {},
   "outputs": [
    {
     "data": {
      "text/html": [
       "<div>\n",
       "<style scoped>\n",
       "    .dataframe tbody tr th:only-of-type {\n",
       "        vertical-align: middle;\n",
       "    }\n",
       "\n",
       "    .dataframe tbody tr th {\n",
       "        vertical-align: top;\n",
       "    }\n",
       "\n",
       "    .dataframe thead th {\n",
       "        text-align: right;\n",
       "    }\n",
       "</style>\n",
       "<table border=\"1\" class=\"dataframe\">\n",
       "  <thead>\n",
       "    <tr style=\"text-align: right;\">\n",
       "      <th></th>\n",
       "      <th>price</th>\n",
       "      <th>count</th>\n",
       "    </tr>\n",
       "  </thead>\n",
       "  <tbody>\n",
       "    <tr>\n",
       "      <th>0</th>\n",
       "      <td>48842.0</td>\n",
       "      <td>1</td>\n",
       "    </tr>\n",
       "    <tr>\n",
       "      <th>1</th>\n",
       "      <td>4761.0</td>\n",
       "      <td>1</td>\n",
       "    </tr>\n",
       "    <tr>\n",
       "      <th>2</th>\n",
       "      <td>1698.0</td>\n",
       "      <td>1</td>\n",
       "    </tr>\n",
       "    <tr>\n",
       "      <th>3</th>\n",
       "      <td>1313.0</td>\n",
       "      <td>1</td>\n",
       "    </tr>\n",
       "  </tbody>\n",
       "</table>\n",
       "</div>"
      ],
      "text/plain": [
       "     price  count\n",
       "0  48842.0      1\n",
       "1   4761.0      1\n",
       "2   1698.0      1\n",
       "3   1313.0      1"
      ]
     },
     "execution_count": 45,
     "metadata": {},
     "output_type": "execute_result"
    }
   ],
   "source": [
    "df [ ( df['country'] == 'Turkey') & (df['property_type'] == 'Apartment') & (df['price'] > 1200)]['price'].value_counts().reset_index()"
   ]
  },
  {
   "cell_type": "code",
   "execution_count": 47,
   "id": "c309b5e5-15eb-49e5-84be-4363d3c21e00",
   "metadata": {},
   "outputs": [
    {
     "data": {
      "text/html": [
       "<div>\n",
       "<style scoped>\n",
       "    .dataframe tbody tr th:only-of-type {\n",
       "        vertical-align: middle;\n",
       "    }\n",
       "\n",
       "    .dataframe tbody tr th {\n",
       "        vertical-align: top;\n",
       "    }\n",
       "\n",
       "    .dataframe thead th {\n",
       "        text-align: right;\n",
       "    }\n",
       "</style>\n",
       "<table border=\"1\" class=\"dataframe\">\n",
       "  <thead>\n",
       "    <tr style=\"text-align: right;\">\n",
       "      <th></th>\n",
       "      <th>price</th>\n",
       "      <th>count</th>\n",
       "    </tr>\n",
       "  </thead>\n",
       "  <tbody>\n",
       "    <tr>\n",
       "      <th>0</th>\n",
       "      <td>2974.0</td>\n",
       "      <td>1</td>\n",
       "    </tr>\n",
       "  </tbody>\n",
       "</table>\n",
       "</div>"
      ],
      "text/plain": [
       "    price  count\n",
       "0  2974.0      1"
      ]
     },
     "execution_count": 47,
     "metadata": {},
     "output_type": "execute_result"
    }
   ],
   "source": [
    "df [ ( df['country'] == 'Turkey') & (df['property_type'] == 'Serviced apartment') & (df['price'] > 1000)]['price'].value_counts().reset_index()"
   ]
  },
  {
   "cell_type": "code",
   "execution_count": 49,
   "id": "b8dbce00-863f-4e3d-98ec-8eb448a9597d",
   "metadata": {},
   "outputs": [
    {
     "data": {
      "text/html": [
       "<div>\n",
       "<style scoped>\n",
       "    .dataframe tbody tr th:only-of-type {\n",
       "        vertical-align: middle;\n",
       "    }\n",
       "\n",
       "    .dataframe tbody tr th {\n",
       "        vertical-align: top;\n",
       "    }\n",
       "\n",
       "    .dataframe thead th {\n",
       "        text-align: right;\n",
       "    }\n",
       "</style>\n",
       "<table border=\"1\" class=\"dataframe\">\n",
       "  <thead>\n",
       "    <tr style=\"text-align: right;\">\n",
       "      <th></th>\n",
       "      <th>price</th>\n",
       "      <th>count</th>\n",
       "    </tr>\n",
       "  </thead>\n",
       "  <tbody>\n",
       "    <tr>\n",
       "      <th>0</th>\n",
       "      <td>1213.0</td>\n",
       "      <td>1</td>\n",
       "    </tr>\n",
       "    <tr>\n",
       "      <th>1</th>\n",
       "      <td>2378.0</td>\n",
       "      <td>1</td>\n",
       "    </tr>\n",
       "    <tr>\n",
       "      <th>2</th>\n",
       "      <td>2083.0</td>\n",
       "      <td>1</td>\n",
       "    </tr>\n",
       "  </tbody>\n",
       "</table>\n",
       "</div>"
      ],
      "text/plain": [
       "    price  count\n",
       "0  1213.0      1\n",
       "1  2378.0      1\n",
       "2  2083.0      1"
      ]
     },
     "execution_count": 49,
     "metadata": {},
     "output_type": "execute_result"
    }
   ],
   "source": [
    "df [ ( df['country'] == 'Turkey') & (df['property_type'] == 'Bed and breakfast') & (df['price'] > 1200)]['price'].value_counts().reset_index()"
   ]
  },
  {
   "cell_type": "code",
   "execution_count": 50,
   "id": "8e3fb5f6-2b04-4265-af64-e419ce2b0e24",
   "metadata": {},
   "outputs": [
    {
     "data": {
      "text/html": [
       "<div>\n",
       "<style scoped>\n",
       "    .dataframe tbody tr th:only-of-type {\n",
       "        vertical-align: middle;\n",
       "    }\n",
       "\n",
       "    .dataframe tbody tr th {\n",
       "        vertical-align: top;\n",
       "    }\n",
       "\n",
       "    .dataframe thead th {\n",
       "        text-align: right;\n",
       "    }\n",
       "</style>\n",
       "<table border=\"1\" class=\"dataframe\">\n",
       "  <thead>\n",
       "    <tr style=\"text-align: right;\">\n",
       "      <th></th>\n",
       "      <th>price</th>\n",
       "      <th>count</th>\n",
       "    </tr>\n",
       "  </thead>\n",
       "  <tbody>\n",
       "    <tr>\n",
       "      <th>0</th>\n",
       "      <td>833.0</td>\n",
       "      <td>1</td>\n",
       "    </tr>\n",
       "  </tbody>\n",
       "</table>\n",
       "</div>"
      ],
      "text/plain": [
       "   price  count\n",
       "0  833.0      1"
      ]
     },
     "execution_count": 50,
     "metadata": {},
     "output_type": "execute_result"
    }
   ],
   "source": [
    "df [ ( df['country'] == 'Turkey') & (df['property_type'] == 'Loft') & (df['price'] > 500)]['price'].value_counts().reset_index()"
   ]
  },
  {
   "cell_type": "code",
   "execution_count": 51,
   "id": "bcba486a-2ee0-41d2-9228-c3f4d4d3ade3",
   "metadata": {},
   "outputs": [
    {
     "data": {
      "text/html": [
       "<div>\n",
       "<style scoped>\n",
       "    .dataframe tbody tr th:only-of-type {\n",
       "        vertical-align: middle;\n",
       "    }\n",
       "\n",
       "    .dataframe tbody tr th {\n",
       "        vertical-align: top;\n",
       "    }\n",
       "\n",
       "    .dataframe thead th {\n",
       "        text-align: right;\n",
       "    }\n",
       "</style>\n",
       "<table border=\"1\" class=\"dataframe\">\n",
       "  <thead>\n",
       "    <tr style=\"text-align: right;\">\n",
       "      <th></th>\n",
       "      <th>price</th>\n",
       "      <th>count</th>\n",
       "    </tr>\n",
       "  </thead>\n",
       "  <tbody>\n",
       "    <tr>\n",
       "      <th>0</th>\n",
       "      <td>1186.0</td>\n",
       "      <td>1</td>\n",
       "    </tr>\n",
       "    <tr>\n",
       "      <th>1</th>\n",
       "      <td>833.0</td>\n",
       "      <td>1</td>\n",
       "    </tr>\n",
       "    <tr>\n",
       "      <th>2</th>\n",
       "      <td>891.0</td>\n",
       "      <td>1</td>\n",
       "    </tr>\n",
       "  </tbody>\n",
       "</table>\n",
       "</div>"
      ],
      "text/plain": [
       "    price  count\n",
       "0  1186.0      1\n",
       "1   833.0      1\n",
       "2   891.0      1"
      ]
     },
     "execution_count": 51,
     "metadata": {},
     "output_type": "execute_result"
    }
   ],
   "source": [
    "df [ ( df['country'] == 'Turkey') & (df['property_type'] == 'Boutique hotel') & (df['price'] > 700)]['price'].value_counts().reset_index()"
   ]
  },
  {
   "cell_type": "code",
   "execution_count": 55,
   "id": "7617b059-48bf-444b-bf91-8dd419efda20",
   "metadata": {},
   "outputs": [
    {
     "data": {
      "text/html": [
       "<div>\n",
       "<style scoped>\n",
       "    .dataframe tbody tr th:only-of-type {\n",
       "        vertical-align: middle;\n",
       "    }\n",
       "\n",
       "    .dataframe tbody tr th {\n",
       "        vertical-align: top;\n",
       "    }\n",
       "\n",
       "    .dataframe thead th {\n",
       "        text-align: right;\n",
       "    }\n",
       "</style>\n",
       "<table border=\"1\" class=\"dataframe\">\n",
       "  <thead>\n",
       "    <tr style=\"text-align: right;\">\n",
       "      <th></th>\n",
       "      <th>price</th>\n",
       "      <th>count</th>\n",
       "    </tr>\n",
       "  </thead>\n",
       "  <tbody>\n",
       "    <tr>\n",
       "      <th>0</th>\n",
       "      <td>7203.0</td>\n",
       "      <td>1</td>\n",
       "    </tr>\n",
       "    <tr>\n",
       "      <th>1</th>\n",
       "      <td>1550.0</td>\n",
       "      <td>1</td>\n",
       "    </tr>\n",
       "  </tbody>\n",
       "</table>\n",
       "</div>"
      ],
      "text/plain": [
       "    price  count\n",
       "0  7203.0      1\n",
       "1  1550.0      1"
      ]
     },
     "execution_count": 55,
     "metadata": {},
     "output_type": "execute_result"
    }
   ],
   "source": [
    "df [ ( df['country'] == 'Turkey') & (df['property_type'] == 'Hotel') & (df['price'] > 1300)]['price'].value_counts().reset_index()"
   ]
  },
  {
   "cell_type": "code",
   "execution_count": 56,
   "id": "74c347dd-34f2-4e8d-bdef-6f03c765ce9e",
   "metadata": {},
   "outputs": [
    {
     "data": {
      "text/html": [
       "<div>\n",
       "<style scoped>\n",
       "    .dataframe tbody tr th:only-of-type {\n",
       "        vertical-align: middle;\n",
       "    }\n",
       "\n",
       "    .dataframe tbody tr th {\n",
       "        vertical-align: top;\n",
       "    }\n",
       "\n",
       "    .dataframe thead th {\n",
       "        text-align: right;\n",
       "    }\n",
       "</style>\n",
       "<table border=\"1\" class=\"dataframe\">\n",
       "  <thead>\n",
       "    <tr style=\"text-align: right;\">\n",
       "      <th></th>\n",
       "      <th>price</th>\n",
       "      <th>count</th>\n",
       "    </tr>\n",
       "  </thead>\n",
       "  <tbody>\n",
       "    <tr>\n",
       "      <th>0</th>\n",
       "      <td>4745.0</td>\n",
       "      <td>1</td>\n",
       "    </tr>\n",
       "  </tbody>\n",
       "</table>\n",
       "</div>"
      ],
      "text/plain": [
       "    price  count\n",
       "0  4745.0      1"
      ]
     },
     "execution_count": 56,
     "metadata": {},
     "output_type": "execute_result"
    }
   ],
   "source": [
    "df [ ( df['country'] == 'Turkey') & (df['property_type'] == 'Villa') & (df['price'] > 1500)]['price'].value_counts().reset_index()"
   ]
  },
  {
   "cell_type": "markdown",
   "id": "4ef62f5e-627e-4ec7-a6ee-66f4d2df70e0",
   "metadata": {},
   "source": [
    "# Outliers- Canada properties"
   ]
  },
  {
   "cell_type": "code",
   "execution_count": 61,
   "id": "4c2ab001-a60a-4092-9505-9ae78c219e9d",
   "metadata": {},
   "outputs": [
    {
     "data": {
      "text/html": [
       "<div>\n",
       "<style scoped>\n",
       "    .dataframe tbody tr th:only-of-type {\n",
       "        vertical-align: middle;\n",
       "    }\n",
       "\n",
       "    .dataframe tbody tr th {\n",
       "        vertical-align: top;\n",
       "    }\n",
       "\n",
       "    .dataframe thead th {\n",
       "        text-align: right;\n",
       "    }\n",
       "</style>\n",
       "<table border=\"1\" class=\"dataframe\">\n",
       "  <thead>\n",
       "    <tr style=\"text-align: right;\">\n",
       "      <th></th>\n",
       "      <th>price</th>\n",
       "      <th>count</th>\n",
       "    </tr>\n",
       "  </thead>\n",
       "  <tbody>\n",
       "    <tr>\n",
       "      <th>0</th>\n",
       "      <td>301.0</td>\n",
       "      <td>3</td>\n",
       "    </tr>\n",
       "    <tr>\n",
       "      <th>1</th>\n",
       "      <td>600.0</td>\n",
       "      <td>2</td>\n",
       "    </tr>\n",
       "    <tr>\n",
       "      <th>2</th>\n",
       "      <td>400.0</td>\n",
       "      <td>2</td>\n",
       "    </tr>\n",
       "    <tr>\n",
       "      <th>3</th>\n",
       "      <td>270.0</td>\n",
       "      <td>1</td>\n",
       "    </tr>\n",
       "    <tr>\n",
       "      <th>4</th>\n",
       "      <td>576.0</td>\n",
       "      <td>1</td>\n",
       "    </tr>\n",
       "  </tbody>\n",
       "</table>\n",
       "</div>"
      ],
      "text/plain": [
       "   price  count\n",
       "0  301.0      3\n",
       "1  600.0      2\n",
       "2  400.0      2\n",
       "3  270.0      1\n",
       "4  576.0      1"
      ]
     },
     "execution_count": 61,
     "metadata": {},
     "output_type": "execute_result"
    }
   ],
   "source": [
    "df [ ( df['country'] == 'Canada') & (df['property_type'] == 'Apartment') & (df['price'] > 250)]['price'].value_counts().reset_index()"
   ]
  },
  {
   "cell_type": "code",
   "execution_count": 62,
   "id": "089bc237-91ef-4d54-b244-63a4db93f41b",
   "metadata": {},
   "outputs": [
    {
     "data": {
      "text/html": [
       "<div>\n",
       "<style scoped>\n",
       "    .dataframe tbody tr th:only-of-type {\n",
       "        vertical-align: middle;\n",
       "    }\n",
       "\n",
       "    .dataframe tbody tr th {\n",
       "        vertical-align: top;\n",
       "    }\n",
       "\n",
       "    .dataframe thead th {\n",
       "        text-align: right;\n",
       "    }\n",
       "</style>\n",
       "<table border=\"1\" class=\"dataframe\">\n",
       "  <thead>\n",
       "    <tr style=\"text-align: right;\">\n",
       "      <th></th>\n",
       "      <th>price</th>\n",
       "      <th>count</th>\n",
       "    </tr>\n",
       "  </thead>\n",
       "  <tbody>\n",
       "    <tr>\n",
       "      <th>0</th>\n",
       "      <td>250.0</td>\n",
       "      <td>1</td>\n",
       "    </tr>\n",
       "    <tr>\n",
       "      <th>1</th>\n",
       "      <td>325.0</td>\n",
       "      <td>1</td>\n",
       "    </tr>\n",
       "  </tbody>\n",
       "</table>\n",
       "</div>"
      ],
      "text/plain": [
       "   price  count\n",
       "0  250.0      1\n",
       "1  325.0      1"
      ]
     },
     "execution_count": 62,
     "metadata": {},
     "output_type": "execute_result"
    }
   ],
   "source": [
    "df [ ( df['country'] == 'Canada') & (df['property_type'] == 'Condominium') & (df['price'] > 230)]['price'].value_counts().reset_index()"
   ]
  },
  {
   "cell_type": "code",
   "execution_count": 63,
   "id": "8c66ba47-f0e8-4416-891c-b35d33f20756",
   "metadata": {},
   "outputs": [
    {
     "data": {
      "text/html": [
       "<div>\n",
       "<style scoped>\n",
       "    .dataframe tbody tr th:only-of-type {\n",
       "        vertical-align: middle;\n",
       "    }\n",
       "\n",
       "    .dataframe tbody tr th {\n",
       "        vertical-align: top;\n",
       "    }\n",
       "\n",
       "    .dataframe thead th {\n",
       "        text-align: right;\n",
       "    }\n",
       "</style>\n",
       "<table border=\"1\" class=\"dataframe\">\n",
       "  <thead>\n",
       "    <tr style=\"text-align: right;\">\n",
       "      <th></th>\n",
       "      <th>price</th>\n",
       "      <th>count</th>\n",
       "    </tr>\n",
       "  </thead>\n",
       "  <tbody>\n",
       "    <tr>\n",
       "      <th>0</th>\n",
       "      <td>1200.0</td>\n",
       "      <td>1</td>\n",
       "    </tr>\n",
       "    <tr>\n",
       "      <th>1</th>\n",
       "      <td>1190.0</td>\n",
       "      <td>1</td>\n",
       "    </tr>\n",
       "  </tbody>\n",
       "</table>\n",
       "</div>"
      ],
      "text/plain": [
       "    price  count\n",
       "0  1200.0      1\n",
       "1  1190.0      1"
      ]
     },
     "execution_count": 63,
     "metadata": {},
     "output_type": "execute_result"
    }
   ],
   "source": [
    "df [ ( df['country'] == 'Canada') & (df['property_type'] == 'Loft') & (df['price'] > 400)]['price'].value_counts().reset_index()"
   ]
  },
  {
   "cell_type": "code",
   "execution_count": 64,
   "id": "9ec49fc5-7a00-4ef9-98c2-fda0266d46d9",
   "metadata": {},
   "outputs": [
    {
     "data": {
      "text/html": [
       "<div>\n",
       "<style scoped>\n",
       "    .dataframe tbody tr th:only-of-type {\n",
       "        vertical-align: middle;\n",
       "    }\n",
       "\n",
       "    .dataframe tbody tr th {\n",
       "        vertical-align: top;\n",
       "    }\n",
       "\n",
       "    .dataframe thead th {\n",
       "        text-align: right;\n",
       "    }\n",
       "</style>\n",
       "<table border=\"1\" class=\"dataframe\">\n",
       "  <thead>\n",
       "    <tr style=\"text-align: right;\">\n",
       "      <th></th>\n",
       "      <th>price</th>\n",
       "      <th>count</th>\n",
       "    </tr>\n",
       "  </thead>\n",
       "  <tbody>\n",
       "    <tr>\n",
       "      <th>0</th>\n",
       "      <td>1746.0</td>\n",
       "      <td>1</td>\n",
       "    </tr>\n",
       "  </tbody>\n",
       "</table>\n",
       "</div>"
      ],
      "text/plain": [
       "    price  count\n",
       "0  1746.0      1"
      ]
     },
     "execution_count": 64,
     "metadata": {},
     "output_type": "execute_result"
    }
   ],
   "source": [
    "df [ ( df['country'] == 'Canada') & (df['property_type'] == 'House') & (df['price'] > 450)]['price'].value_counts().reset_index()"
   ]
  },
  {
   "cell_type": "markdown",
   "id": "5e1bea15-1812-4451-bc52-28ec946cddfb",
   "metadata": {},
   "source": [
    "# Outliers- Hong Kong properties"
   ]
  },
  {
   "cell_type": "code",
   "execution_count": 65,
   "id": "e37a9615-3f6a-4eb9-b593-7a64a67a7660",
   "metadata": {},
   "outputs": [
    {
     "data": {
      "text/html": [
       "<div>\n",
       "<style scoped>\n",
       "    .dataframe tbody tr th:only-of-type {\n",
       "        vertical-align: middle;\n",
       "    }\n",
       "\n",
       "    .dataframe tbody tr th {\n",
       "        vertical-align: top;\n",
       "    }\n",
       "\n",
       "    .dataframe thead th {\n",
       "        text-align: right;\n",
       "    }\n",
       "</style>\n",
       "<table border=\"1\" class=\"dataframe\">\n",
       "  <thead>\n",
       "    <tr style=\"text-align: right;\">\n",
       "      <th></th>\n",
       "      <th>price</th>\n",
       "      <th>count</th>\n",
       "    </tr>\n",
       "  </thead>\n",
       "  <tbody>\n",
       "    <tr>\n",
       "      <th>0</th>\n",
       "      <td>2496.0</td>\n",
       "      <td>2</td>\n",
       "    </tr>\n",
       "    <tr>\n",
       "      <th>1</th>\n",
       "      <td>2748.0</td>\n",
       "      <td>1</td>\n",
       "    </tr>\n",
       "    <tr>\n",
       "      <th>2</th>\n",
       "      <td>2802.0</td>\n",
       "      <td>1</td>\n",
       "    </tr>\n",
       "    <tr>\n",
       "      <th>3</th>\n",
       "      <td>3399.0</td>\n",
       "      <td>1</td>\n",
       "    </tr>\n",
       "    <tr>\n",
       "      <th>4</th>\n",
       "      <td>2700.0</td>\n",
       "      <td>1</td>\n",
       "    </tr>\n",
       "  </tbody>\n",
       "</table>\n",
       "</div>"
      ],
      "text/plain": [
       "    price  count\n",
       "0  2496.0      2\n",
       "1  2748.0      1\n",
       "2  2802.0      1\n",
       "3  3399.0      1\n",
       "4  2700.0      1"
      ]
     },
     "execution_count": 65,
     "metadata": {},
     "output_type": "execute_result"
    }
   ],
   "source": [
    "df [ ( df['country'] == 'Hong Kong') & (df['property_type'] == 'Apartment') & (df['price'] > 2000)]['price'].value_counts().reset_index()"
   ]
  },
  {
   "cell_type": "code",
   "execution_count": 66,
   "id": "5a8fdf62-147c-41b9-8109-4f62c26b9366",
   "metadata": {},
   "outputs": [
    {
     "data": {
      "text/html": [
       "<div>\n",
       "<style scoped>\n",
       "    .dataframe tbody tr th:only-of-type {\n",
       "        vertical-align: middle;\n",
       "    }\n",
       "\n",
       "    .dataframe tbody tr th {\n",
       "        vertical-align: top;\n",
       "    }\n",
       "\n",
       "    .dataframe thead th {\n",
       "        text-align: right;\n",
       "    }\n",
       "</style>\n",
       "<table border=\"1\" class=\"dataframe\">\n",
       "  <thead>\n",
       "    <tr style=\"text-align: right;\">\n",
       "      <th></th>\n",
       "      <th>price</th>\n",
       "      <th>count</th>\n",
       "    </tr>\n",
       "  </thead>\n",
       "  <tbody>\n",
       "    <tr>\n",
       "      <th>0</th>\n",
       "      <td>11681.0</td>\n",
       "      <td>1</td>\n",
       "    </tr>\n",
       "    <tr>\n",
       "      <th>1</th>\n",
       "      <td>10001.0</td>\n",
       "      <td>1</td>\n",
       "    </tr>\n",
       "  </tbody>\n",
       "</table>\n",
       "</div>"
      ],
      "text/plain": [
       "     price  count\n",
       "0  11681.0      1\n",
       "1  10001.0      1"
      ]
     },
     "execution_count": 66,
     "metadata": {},
     "output_type": "execute_result"
    }
   ],
   "source": [
    "df [ ( df['country'] == 'Hong Kong') & (df['property_type'] == 'Condominium') & (df['price'] > 2400)]['price'].value_counts().reset_index()"
   ]
  },
  {
   "cell_type": "code",
   "execution_count": 67,
   "id": "056d8992-fab1-47e2-9c2d-9a777ed7f7eb",
   "metadata": {},
   "outputs": [
    {
     "data": {
      "text/html": [
       "<div>\n",
       "<style scoped>\n",
       "    .dataframe tbody tr th:only-of-type {\n",
       "        vertical-align: middle;\n",
       "    }\n",
       "\n",
       "    .dataframe tbody tr th {\n",
       "        vertical-align: top;\n",
       "    }\n",
       "\n",
       "    .dataframe thead th {\n",
       "        text-align: right;\n",
       "    }\n",
       "</style>\n",
       "<table border=\"1\" class=\"dataframe\">\n",
       "  <thead>\n",
       "    <tr style=\"text-align: right;\">\n",
       "      <th></th>\n",
       "      <th>price</th>\n",
       "      <th>count</th>\n",
       "    </tr>\n",
       "  </thead>\n",
       "  <tbody>\n",
       "    <tr>\n",
       "      <th>0</th>\n",
       "      <td>10001.0</td>\n",
       "      <td>1</td>\n",
       "    </tr>\n",
       "  </tbody>\n",
       "</table>\n",
       "</div>"
      ],
      "text/plain": [
       "     price  count\n",
       "0  10001.0      1"
      ]
     },
     "execution_count": 67,
     "metadata": {},
     "output_type": "execute_result"
    }
   ],
   "source": [
    "df [ ( df['country'] == 'Hong Kong') & (df['property_type'] == 'Bed and breakfast') & (df['price'] > 1600)]['price'].value_counts().reset_index()"
   ]
  },
  {
   "cell_type": "code",
   "execution_count": 68,
   "id": "03748ac8-5f4d-4889-80f5-7f48cac147ce",
   "metadata": {},
   "outputs": [
    {
     "data": {
      "text/html": [
       "<div>\n",
       "<style scoped>\n",
       "    .dataframe tbody tr th:only-of-type {\n",
       "        vertical-align: middle;\n",
       "    }\n",
       "\n",
       "    .dataframe tbody tr th {\n",
       "        vertical-align: top;\n",
       "    }\n",
       "\n",
       "    .dataframe thead th {\n",
       "        text-align: right;\n",
       "    }\n",
       "</style>\n",
       "<table border=\"1\" class=\"dataframe\">\n",
       "  <thead>\n",
       "    <tr style=\"text-align: right;\">\n",
       "      <th></th>\n",
       "      <th>price</th>\n",
       "      <th>count</th>\n",
       "    </tr>\n",
       "  </thead>\n",
       "  <tbody>\n",
       "    <tr>\n",
       "      <th>0</th>\n",
       "      <td>2661.0</td>\n",
       "      <td>1</td>\n",
       "    </tr>\n",
       "    <tr>\n",
       "      <th>1</th>\n",
       "      <td>11681.0</td>\n",
       "      <td>1</td>\n",
       "    </tr>\n",
       "  </tbody>\n",
       "</table>\n",
       "</div>"
      ],
      "text/plain": [
       "     price  count\n",
       "0   2661.0      1\n",
       "1  11681.0      1"
      ]
     },
     "execution_count": 68,
     "metadata": {},
     "output_type": "execute_result"
    }
   ],
   "source": [
    "df [ ( df['country'] == 'Hong Kong') & (df['property_type'] == 'Serviced apartment') & (df['price'] > 2300)]['price'].value_counts().reset_index()"
   ]
  },
  {
   "cell_type": "code",
   "execution_count": 69,
   "id": "b0ed6626-d59e-46b9-8fdf-6f54364bbb4c",
   "metadata": {},
   "outputs": [
    {
     "data": {
      "text/html": [
       "<div>\n",
       "<style scoped>\n",
       "    .dataframe tbody tr th:only-of-type {\n",
       "        vertical-align: middle;\n",
       "    }\n",
       "\n",
       "    .dataframe tbody tr th {\n",
       "        vertical-align: top;\n",
       "    }\n",
       "\n",
       "    .dataframe thead th {\n",
       "        text-align: right;\n",
       "    }\n",
       "</style>\n",
       "<table border=\"1\" class=\"dataframe\">\n",
       "  <thead>\n",
       "    <tr style=\"text-align: right;\">\n",
       "      <th></th>\n",
       "      <th>price</th>\n",
       "      <th>count</th>\n",
       "    </tr>\n",
       "  </thead>\n",
       "  <tbody>\n",
       "    <tr>\n",
       "      <th>0</th>\n",
       "      <td>2002.0</td>\n",
       "      <td>1</td>\n",
       "    </tr>\n",
       "    <tr>\n",
       "      <th>1</th>\n",
       "      <td>2999.0</td>\n",
       "      <td>1</td>\n",
       "    </tr>\n",
       "  </tbody>\n",
       "</table>\n",
       "</div>"
      ],
      "text/plain": [
       "    price  count\n",
       "0  2002.0      1\n",
       "1  2999.0      1"
      ]
     },
     "execution_count": 69,
     "metadata": {},
     "output_type": "execute_result"
    }
   ],
   "source": [
    "df [ ( df['country'] == 'Hong Kong') & (df['property_type'] == 'Hotel') & (df['price'] > 1000)]['price'].value_counts().reset_index()"
   ]
  },
  {
   "cell_type": "code",
   "execution_count": 70,
   "id": "2a627209-7df2-4df1-b0ab-dec91ca09785",
   "metadata": {},
   "outputs": [
    {
     "data": {
      "text/html": [
       "<div>\n",
       "<style scoped>\n",
       "    .dataframe tbody tr th:only-of-type {\n",
       "        vertical-align: middle;\n",
       "    }\n",
       "\n",
       "    .dataframe tbody tr th {\n",
       "        vertical-align: top;\n",
       "    }\n",
       "\n",
       "    .dataframe thead th {\n",
       "        text-align: right;\n",
       "    }\n",
       "</style>\n",
       "<table border=\"1\" class=\"dataframe\">\n",
       "  <thead>\n",
       "    <tr style=\"text-align: right;\">\n",
       "      <th></th>\n",
       "      <th>price</th>\n",
       "      <th>count</th>\n",
       "    </tr>\n",
       "  </thead>\n",
       "  <tbody>\n",
       "    <tr>\n",
       "      <th>0</th>\n",
       "      <td>4828.0</td>\n",
       "      <td>1</td>\n",
       "    </tr>\n",
       "    <tr>\n",
       "      <th>1</th>\n",
       "      <td>7002.0</td>\n",
       "      <td>1</td>\n",
       "    </tr>\n",
       "  </tbody>\n",
       "</table>\n",
       "</div>"
      ],
      "text/plain": [
       "    price  count\n",
       "0  4828.0      1\n",
       "1  7002.0      1"
      ]
     },
     "execution_count": 70,
     "metadata": {},
     "output_type": "execute_result"
    }
   ],
   "source": [
    "df [ ( df['country'] == 'Hong Kong') & (df['property_type'] == 'House') & (df['price'] > 1600)]['price'].value_counts().reset_index()"
   ]
  },
  {
   "cell_type": "markdown",
   "id": "a7a52a07-f79e-4e4f-9cc0-4d1db43099c8",
   "metadata": {},
   "source": [
    "# Outliers- Spain properties"
   ]
  },
  {
   "cell_type": "code",
   "execution_count": 79,
   "id": "92c5934b-6bba-4b34-88f6-8ec225e029f6",
   "metadata": {},
   "outputs": [
    {
     "data": {
      "text/html": [
       "<div>\n",
       "<style scoped>\n",
       "    .dataframe tbody tr th:only-of-type {\n",
       "        vertical-align: middle;\n",
       "    }\n",
       "\n",
       "    .dataframe tbody tr th {\n",
       "        vertical-align: top;\n",
       "    }\n",
       "\n",
       "    .dataframe thead th {\n",
       "        text-align: right;\n",
       "    }\n",
       "</style>\n",
       "<table border=\"1\" class=\"dataframe\">\n",
       "  <thead>\n",
       "    <tr style=\"text-align: right;\">\n",
       "      <th></th>\n",
       "      <th>price</th>\n",
       "      <th>count</th>\n",
       "    </tr>\n",
       "  </thead>\n",
       "  <tbody>\n",
       "    <tr>\n",
       "      <th>0</th>\n",
       "      <td>550.0</td>\n",
       "      <td>2</td>\n",
       "    </tr>\n",
       "    <tr>\n",
       "      <th>1</th>\n",
       "      <td>600.0</td>\n",
       "      <td>2</td>\n",
       "    </tr>\n",
       "    <tr>\n",
       "      <th>2</th>\n",
       "      <td>527.0</td>\n",
       "      <td>1</td>\n",
       "    </tr>\n",
       "    <tr>\n",
       "      <th>3</th>\n",
       "      <td>805.0</td>\n",
       "      <td>1</td>\n",
       "    </tr>\n",
       "    <tr>\n",
       "      <th>4</th>\n",
       "      <td>750.0</td>\n",
       "      <td>1</td>\n",
       "    </tr>\n",
       "    <tr>\n",
       "      <th>5</th>\n",
       "      <td>2000.0</td>\n",
       "      <td>1</td>\n",
       "    </tr>\n",
       "    <tr>\n",
       "      <th>6</th>\n",
       "      <td>700.0</td>\n",
       "      <td>1</td>\n",
       "    </tr>\n",
       "    <tr>\n",
       "      <th>7</th>\n",
       "      <td>705.0</td>\n",
       "      <td>1</td>\n",
       "    </tr>\n",
       "  </tbody>\n",
       "</table>\n",
       "</div>"
      ],
      "text/plain": [
       "    price  count\n",
       "0   550.0      2\n",
       "1   600.0      2\n",
       "2   527.0      1\n",
       "3   805.0      1\n",
       "4   750.0      1\n",
       "5  2000.0      1\n",
       "6   700.0      1\n",
       "7   705.0      1"
      ]
     },
     "execution_count": 79,
     "metadata": {},
     "output_type": "execute_result"
    }
   ],
   "source": [
    "df [ ( df['country'] == 'Spain') & (df['property_type'] == 'Apartment') & (df['price'] > 500)]['price'].value_counts().reset_index()"
   ]
  },
  {
   "cell_type": "code",
   "execution_count": 81,
   "id": "d1414d73-662a-4780-b852-928aafbeccbf",
   "metadata": {},
   "outputs": [
    {
     "data": {
      "text/html": [
       "<div>\n",
       "<style scoped>\n",
       "    .dataframe tbody tr th:only-of-type {\n",
       "        vertical-align: middle;\n",
       "    }\n",
       "\n",
       "    .dataframe tbody tr th {\n",
       "        vertical-align: top;\n",
       "    }\n",
       "\n",
       "    .dataframe thead th {\n",
       "        text-align: right;\n",
       "    }\n",
       "</style>\n",
       "<table border=\"1\" class=\"dataframe\">\n",
       "  <thead>\n",
       "    <tr style=\"text-align: right;\">\n",
       "      <th></th>\n",
       "      <th>price</th>\n",
       "      <th>count</th>\n",
       "    </tr>\n",
       "  </thead>\n",
       "  <tbody>\n",
       "    <tr>\n",
       "      <th>0</th>\n",
       "      <td>999.0</td>\n",
       "      <td>1</td>\n",
       "    </tr>\n",
       "  </tbody>\n",
       "</table>\n",
       "</div>"
      ],
      "text/plain": [
       "   price  count\n",
       "0  999.0      1"
      ]
     },
     "execution_count": 81,
     "metadata": {},
     "output_type": "execute_result"
    }
   ],
   "source": [
    "df [ ( df['country'] == 'Spain') & (df['property_type'] == 'Condominium') & (df['price'] > 220)]['price'].value_counts().reset_index()"
   ]
  },
  {
   "cell_type": "code",
   "execution_count": 82,
   "id": "28a12938-d4f5-4a8b-ae6e-846020a07a39",
   "metadata": {},
   "outputs": [
    {
     "data": {
      "text/html": [
       "<div>\n",
       "<style scoped>\n",
       "    .dataframe tbody tr th:only-of-type {\n",
       "        vertical-align: middle;\n",
       "    }\n",
       "\n",
       "    .dataframe tbody tr th {\n",
       "        vertical-align: top;\n",
       "    }\n",
       "\n",
       "    .dataframe thead th {\n",
       "        text-align: right;\n",
       "    }\n",
       "</style>\n",
       "<table border=\"1\" class=\"dataframe\">\n",
       "  <thead>\n",
       "    <tr style=\"text-align: right;\">\n",
       "      <th></th>\n",
       "      <th>price</th>\n",
       "      <th>count</th>\n",
       "    </tr>\n",
       "  </thead>\n",
       "  <tbody>\n",
       "    <tr>\n",
       "      <th>0</th>\n",
       "      <td>599.0</td>\n",
       "      <td>2</td>\n",
       "    </tr>\n",
       "    <tr>\n",
       "      <th>1</th>\n",
       "      <td>1240.0</td>\n",
       "      <td>1</td>\n",
       "    </tr>\n",
       "  </tbody>\n",
       "</table>\n",
       "</div>"
      ],
      "text/plain": [
       "    price  count\n",
       "0   599.0      2\n",
       "1  1240.0      1"
      ]
     },
     "execution_count": 82,
     "metadata": {},
     "output_type": "execute_result"
    }
   ],
   "source": [
    "df [ ( df['country'] == 'Spain') & (df['property_type'] == 'Serviced apartment') & (df['price'] > 220)]['price'].value_counts().reset_index()"
   ]
  },
  {
   "cell_type": "markdown",
   "id": "9ad2428c-a991-4c18-ba06-2fedd2b4fa03",
   "metadata": {},
   "source": [
    "# Outliers- Australia properties"
   ]
  },
  {
   "cell_type": "code",
   "execution_count": 83,
   "id": "30f2b417-e31a-42fc-8811-18becfbf212b",
   "metadata": {},
   "outputs": [
    {
     "data": {
      "text/html": [
       "<div>\n",
       "<style scoped>\n",
       "    .dataframe tbody tr th:only-of-type {\n",
       "        vertical-align: middle;\n",
       "    }\n",
       "\n",
       "    .dataframe tbody tr th {\n",
       "        vertical-align: top;\n",
       "    }\n",
       "\n",
       "    .dataframe thead th {\n",
       "        text-align: right;\n",
       "    }\n",
       "</style>\n",
       "<table border=\"1\" class=\"dataframe\">\n",
       "  <thead>\n",
       "    <tr style=\"text-align: right;\">\n",
       "      <th></th>\n",
       "      <th>price</th>\n",
       "      <th>count</th>\n",
       "    </tr>\n",
       "  </thead>\n",
       "  <tbody>\n",
       "    <tr>\n",
       "      <th>0</th>\n",
       "      <td>550.0</td>\n",
       "      <td>2</td>\n",
       "    </tr>\n",
       "    <tr>\n",
       "      <th>1</th>\n",
       "      <td>999.0</td>\n",
       "      <td>2</td>\n",
       "    </tr>\n",
       "    <tr>\n",
       "      <th>2</th>\n",
       "      <td>569.0</td>\n",
       "      <td>1</td>\n",
       "    </tr>\n",
       "    <tr>\n",
       "      <th>3</th>\n",
       "      <td>699.0</td>\n",
       "      <td>1</td>\n",
       "    </tr>\n",
       "    <tr>\n",
       "      <th>4</th>\n",
       "      <td>635.0</td>\n",
       "      <td>1</td>\n",
       "    </tr>\n",
       "    <tr>\n",
       "      <th>5</th>\n",
       "      <td>751.0</td>\n",
       "      <td>1</td>\n",
       "    </tr>\n",
       "    <tr>\n",
       "      <th>6</th>\n",
       "      <td>850.0</td>\n",
       "      <td>1</td>\n",
       "    </tr>\n",
       "    <tr>\n",
       "      <th>7</th>\n",
       "      <td>600.0</td>\n",
       "      <td>1</td>\n",
       "    </tr>\n",
       "  </tbody>\n",
       "</table>\n",
       "</div>"
      ],
      "text/plain": [
       "   price  count\n",
       "0  550.0      2\n",
       "1  999.0      2\n",
       "2  569.0      1\n",
       "3  699.0      1\n",
       "4  635.0      1\n",
       "5  751.0      1\n",
       "6  850.0      1\n",
       "7  600.0      1"
      ]
     },
     "execution_count": 83,
     "metadata": {},
     "output_type": "execute_result"
    }
   ],
   "source": [
    "df [ ( df['country'] == 'Australia') & (df['property_type'] == 'Apartment') & (df['price'] > 500)]['price'].value_counts().reset_index()"
   ]
  },
  {
   "cell_type": "code",
   "execution_count": 84,
   "id": "9c3e23ef-7573-440a-9ffc-f20a529e4fe3",
   "metadata": {},
   "outputs": [
    {
     "data": {
      "text/html": [
       "<div>\n",
       "<style scoped>\n",
       "    .dataframe tbody tr th:only-of-type {\n",
       "        vertical-align: middle;\n",
       "    }\n",
       "\n",
       "    .dataframe tbody tr th {\n",
       "        vertical-align: top;\n",
       "    }\n",
       "\n",
       "    .dataframe thead th {\n",
       "        text-align: right;\n",
       "    }\n",
       "</style>\n",
       "<table border=\"1\" class=\"dataframe\">\n",
       "  <thead>\n",
       "    <tr style=\"text-align: right;\">\n",
       "      <th></th>\n",
       "      <th>price</th>\n",
       "      <th>count</th>\n",
       "    </tr>\n",
       "  </thead>\n",
       "  <tbody>\n",
       "    <tr>\n",
       "      <th>0</th>\n",
       "      <td>1105.0</td>\n",
       "      <td>1</td>\n",
       "    </tr>\n",
       "    <tr>\n",
       "      <th>1</th>\n",
       "      <td>2000.0</td>\n",
       "      <td>1</td>\n",
       "    </tr>\n",
       "    <tr>\n",
       "      <th>2</th>\n",
       "      <td>1200.0</td>\n",
       "      <td>1</td>\n",
       "    </tr>\n",
       "    <tr>\n",
       "      <th>3</th>\n",
       "      <td>1100.0</td>\n",
       "      <td>1</td>\n",
       "    </tr>\n",
       "    <tr>\n",
       "      <th>4</th>\n",
       "      <td>1321.0</td>\n",
       "      <td>1</td>\n",
       "    </tr>\n",
       "    <tr>\n",
       "      <th>5</th>\n",
       "      <td>1500.0</td>\n",
       "      <td>1</td>\n",
       "    </tr>\n",
       "  </tbody>\n",
       "</table>\n",
       "</div>"
      ],
      "text/plain": [
       "    price  count\n",
       "0  1105.0      1\n",
       "1  2000.0      1\n",
       "2  1200.0      1\n",
       "3  1100.0      1\n",
       "4  1321.0      1\n",
       "5  1500.0      1"
      ]
     },
     "execution_count": 84,
     "metadata": {},
     "output_type": "execute_result"
    }
   ],
   "source": [
    "df [ ( df['country'] == 'Australia') & (df['property_type'] == 'House') & (df['price'] > 1000)]['price'].value_counts().reset_index()"
   ]
  },
  {
   "cell_type": "code",
   "execution_count": 85,
   "id": "0798379b-f6ec-4816-adeb-5337ba3ae14e",
   "metadata": {},
   "outputs": [
    {
     "data": {
      "text/html": [
       "<div>\n",
       "<style scoped>\n",
       "    .dataframe tbody tr th:only-of-type {\n",
       "        vertical-align: middle;\n",
       "    }\n",
       "\n",
       "    .dataframe tbody tr th {\n",
       "        vertical-align: top;\n",
       "    }\n",
       "\n",
       "    .dataframe thead th {\n",
       "        text-align: right;\n",
       "    }\n",
       "</style>\n",
       "<table border=\"1\" class=\"dataframe\">\n",
       "  <thead>\n",
       "    <tr style=\"text-align: right;\">\n",
       "      <th></th>\n",
       "      <th>price</th>\n",
       "      <th>count</th>\n",
       "    </tr>\n",
       "  </thead>\n",
       "  <tbody>\n",
       "    <tr>\n",
       "      <th>0</th>\n",
       "      <td>600.0</td>\n",
       "      <td>1</td>\n",
       "    </tr>\n",
       "    <tr>\n",
       "      <th>1</th>\n",
       "      <td>451.0</td>\n",
       "      <td>1</td>\n",
       "    </tr>\n",
       "  </tbody>\n",
       "</table>\n",
       "</div>"
      ],
      "text/plain": [
       "   price  count\n",
       "0  600.0      1\n",
       "1  451.0      1"
      ]
     },
     "execution_count": 85,
     "metadata": {},
     "output_type": "execute_result"
    }
   ],
   "source": [
    "df [ ( df['country'] == 'Australia') & (df['property_type'] == 'Townhouse') & (df['price'] > 400)]['price'].value_counts().reset_index()"
   ]
  },
  {
   "cell_type": "code",
   "execution_count": 86,
   "id": "33498e72-9550-4014-9dea-024492cd3a78",
   "metadata": {},
   "outputs": [
    {
     "data": {
      "text/html": [
       "<div>\n",
       "<style scoped>\n",
       "    .dataframe tbody tr th:only-of-type {\n",
       "        vertical-align: middle;\n",
       "    }\n",
       "\n",
       "    .dataframe tbody tr th {\n",
       "        vertical-align: top;\n",
       "    }\n",
       "\n",
       "    .dataframe thead th {\n",
       "        text-align: right;\n",
       "    }\n",
       "</style>\n",
       "<table border=\"1\" class=\"dataframe\">\n",
       "  <thead>\n",
       "    <tr style=\"text-align: right;\">\n",
       "      <th></th>\n",
       "      <th>price</th>\n",
       "      <th>count</th>\n",
       "    </tr>\n",
       "  </thead>\n",
       "  <tbody>\n",
       "    <tr>\n",
       "      <th>0</th>\n",
       "      <td>350.0</td>\n",
       "      <td>1</td>\n",
       "    </tr>\n",
       "  </tbody>\n",
       "</table>\n",
       "</div>"
      ],
      "text/plain": [
       "   price  count\n",
       "0  350.0      1"
      ]
     },
     "execution_count": 86,
     "metadata": {},
     "output_type": "execute_result"
    }
   ],
   "source": [
    "df [ ( df['country'] == 'Australia') & (df['property_type'] == 'Serviced apartment') & (df['price'] > 250)]['price'].value_counts().reset_index()"
   ]
  },
  {
   "cell_type": "code",
   "execution_count": 88,
   "id": "c3ccc465-7e59-42fa-bbb8-c446eb7103b4",
   "metadata": {},
   "outputs": [
    {
     "data": {
      "text/html": [
       "<div>\n",
       "<style scoped>\n",
       "    .dataframe tbody tr th:only-of-type {\n",
       "        vertical-align: middle;\n",
       "    }\n",
       "\n",
       "    .dataframe tbody tr th {\n",
       "        vertical-align: top;\n",
       "    }\n",
       "\n",
       "    .dataframe thead th {\n",
       "        text-align: right;\n",
       "    }\n",
       "</style>\n",
       "<table border=\"1\" class=\"dataframe\">\n",
       "  <thead>\n",
       "    <tr style=\"text-align: right;\">\n",
       "      <th></th>\n",
       "      <th>price</th>\n",
       "      <th>count</th>\n",
       "    </tr>\n",
       "  </thead>\n",
       "  <tbody>\n",
       "    <tr>\n",
       "      <th>0</th>\n",
       "      <td>2356.0</td>\n",
       "      <td>1</td>\n",
       "    </tr>\n",
       "  </tbody>\n",
       "</table>\n",
       "</div>"
      ],
      "text/plain": [
       "    price  count\n",
       "0  2356.0      1"
      ]
     },
     "execution_count": 88,
     "metadata": {},
     "output_type": "execute_result"
    }
   ],
   "source": [
    "df [ ( df['country'] == 'Australia') & (df['property_type'] == 'Villa') & (df['price'] > 150)]['price'].value_counts().reset_index()"
   ]
  },
  {
   "cell_type": "markdown",
   "id": "3df49f92-99b0-46fc-85de-77491b10f2d8",
   "metadata": {},
   "source": [
    "# Removing Ouliers -Portugal"
   ]
  },
  {
   "cell_type": "code",
   "execution_count": 6,
   "id": "a0a5b9a4-5027-4041-b1e8-cea975798352",
   "metadata": {},
   "outputs": [
    {
     "data": {
      "text/plain": [
       "(5545, 31)"
      ]
     },
     "execution_count": 6,
     "metadata": {},
     "output_type": "execute_result"
    }
   ],
   "source": [
    "df.shape"
   ]
  },
  {
   "cell_type": "code",
   "execution_count": 8,
   "id": "3237fe2f-a8d9-4ed5-a39d-31fac13d0bd0",
   "metadata": {
    "scrolled": true
   },
   "outputs": [],
   "source": [
    "df1 = df.drop(df [ ( df['country'] == 'Portugal') & (df['property_type'] == 'Apartment') & (df['price'] > 200)].index).reset_index(drop=True)"
   ]
  },
  {
   "cell_type": "code",
   "execution_count": 9,
   "id": "89edc183-d6c1-48fd-8132-975a7d5266ac",
   "metadata": {},
   "outputs": [
    {
     "data": {
      "text/plain": [
       "(5540, 31)"
      ]
     },
     "execution_count": 9,
     "metadata": {},
     "output_type": "execute_result"
    }
   ],
   "source": [
    "df1.shape"
   ]
  },
  {
   "cell_type": "markdown",
   "id": "90c18ee1-85bc-47f1-a392-e4d40c311826",
   "metadata": {},
   "source": [
    "# Removing Ouliers -Brazil"
   ]
  },
  {
   "cell_type": "code",
   "execution_count": 10,
   "id": "89a344ba-8fea-46f5-95c1-180911d3f018",
   "metadata": {},
   "outputs": [],
   "source": [
    "df1.drop(df1 [ ( df1['country'] == 'Brazil') & (df1['property_type'] == 'Apartment') & (df1['price'] > 3000)].index,inplace=True)\n",
    "df1.drop(df1 [ ( df1['country'] == 'Brazil') & (df1['property_type'] == 'House') & (df1['price'] > 2500)].index,inplace=True)\n",
    "df1.drop(df1 [ ( df1['country'] == 'Brazil') & (df1['property_type'] == 'Bed and breakfast') & (df1['price'] > 300)].index,inplace=True)\n",
    "df1.drop(df1 [ ( df1['country'] == 'Brazil') & (df1['property_type'] == 'Condominium') & (df1['price'] > 2000)].index,inplace=True)\n",
    "df1.drop(df1 [ ( df1['country'] == 'Brazil') & (df1['property_type'] == 'Loft') & (df1['price'] > 400)].index,inplace=True)\n",
    "df1.drop(df1 [ ( df1['country'] == 'Brazil') & (df1['property_type'] == 'Serviced apartment') & (df1['price'] > 1000)].index,inplace=True)"
   ]
  },
  {
   "cell_type": "code",
   "execution_count": 11,
   "id": "7c5d3456-7bb8-44a7-96ef-0ae3240a6535",
   "metadata": {},
   "outputs": [
    {
     "data": {
      "text/plain": [
       "(5521, 31)"
      ]
     },
     "execution_count": 11,
     "metadata": {},
     "output_type": "execute_result"
    }
   ],
   "source": [
    "df1.shape"
   ]
  },
  {
   "cell_type": "markdown",
   "id": "13dc87bd-162b-4cca-840c-a71e3f6cf492",
   "metadata": {},
   "source": [
    "# Removing Ouliers -United States"
   ]
  },
  {
   "cell_type": "code",
   "execution_count": 12,
   "id": "ac90dec5-a191-48f3-8b69-866a12cb43c9",
   "metadata": {},
   "outputs": [],
   "source": [
    "df1.drop(df1 [ ( df1['country'] == 'United States') & (df1['property_type'] == 'Condominium') & (df1['price'] > 600)].index,inplace=True)\n",
    "df1.drop(df1 [ ( df1['country'] == 'United States') & (df1['property_type'] == 'Apartment') & (df1['price'] > 500)].index,inplace=True)\n",
    "df1.drop(df1 [ ( df1['country'] == 'United States') & (df1['property_type'] == 'House') & (df1['price'] > 700)].index,inplace=True)\n",
    "df1.drop(df1 [ ( df1['country'] == 'United States') & (df1['property_type'] == 'Bungalow') & (df1['price'] > 300)].index,inplace=True)\n",
    "df1.drop(df1 [ ( df1['country'] == 'United States') & (df1['property_type'] == 'Townhouse') & (df1['price'] > 500)].index,inplace=True)\n",
    "df1.drop(df1 [ ( df1['country'] == 'United States') & (df1['property_type'] == 'Cottage') & (df1['price'] > 500)].index,inplace=True)"
   ]
  },
  {
   "cell_type": "code",
   "execution_count": 13,
   "id": "d103fcc7-1b73-4644-9443-a688fd8da728",
   "metadata": {},
   "outputs": [
    {
     "data": {
      "text/plain": [
       "(5493, 31)"
      ]
     },
     "execution_count": 13,
     "metadata": {},
     "output_type": "execute_result"
    }
   ],
   "source": [
    "df1.shape"
   ]
  },
  {
   "cell_type": "markdown",
   "id": "c26051af-f9d7-47e5-bae1-8186037e54ae",
   "metadata": {},
   "source": [
    "# Removing Ouliers -Turkey"
   ]
  },
  {
   "cell_type": "code",
   "execution_count": 14,
   "id": "82e9ced4-8d3d-415d-9176-83edd1d58b58",
   "metadata": {},
   "outputs": [],
   "source": [
    "df1.drop(df1 [ ( df1['country'] == 'Turkey') & (df1['property_type'] == 'House') & (df1['price'] > 550)].index,inplace=True)\n",
    "df1.drop(df1 [ ( df1['country'] == 'Turkey') & (df1['property_type'] == 'Apartment') & (df1['price'] > 1200)].index,inplace=True)\n",
    "df1.drop(df1 [ ( df1['country'] == 'Turkey') & (df1['property_type'] == 'Serviced apartment') & (df1['price'] > 1000)].index,inplace=True)\n",
    "df1.drop(df1 [ ( df1['country'] == 'Turkey') & (df1['property_type'] == 'Bed and breakfast') & (df1['price'] > 1200)].index,inplace=True)\n",
    "df1.drop(df1 [ ( df1['country'] == 'Turkey') & (df1['property_type'] == 'Loft') & (df1['price'] > 500)].index,inplace=True)\n",
    "df1.drop(df1 [ ( df1['country'] == 'Turkey') & (df1['property_type'] == 'Boutique hotel') & (df1['price'] > 600)].index,inplace=True)\n",
    "df1.drop(df1 [ ( df1['country'] == 'Turkey') & (df1['property_type'] == 'Hotel') & (df1['price'] > 1000)].index,inplace=True)\n",
    "df1.drop(df1 [ ( df1['country'] == 'Turkey') & (df1['property_type'] == 'Villa') & (df1['price'] > 1500)].index,inplace=True)"
   ]
  },
  {
   "cell_type": "code",
   "execution_count": 15,
   "id": "4f128fea-a334-4071-9cb8-972aa667b616",
   "metadata": {},
   "outputs": [
    {
     "data": {
      "text/plain": [
       "(5476, 31)"
      ]
     },
     "execution_count": 15,
     "metadata": {},
     "output_type": "execute_result"
    }
   ],
   "source": [
    "df1.shape"
   ]
  },
  {
   "cell_type": "markdown",
   "id": "65e1fe56-2656-4616-abd9-68e6388888a1",
   "metadata": {},
   "source": [
    "# Removing Ouliers -Canada"
   ]
  },
  {
   "cell_type": "code",
   "execution_count": 16,
   "id": "c6185e80-92f1-45f3-ae5b-afeff62efb44",
   "metadata": {},
   "outputs": [],
   "source": [
    "df1.drop(df1 [ ( df1['country'] == 'Canada') & (df1['property_type'] == 'Apartment') & (df1['price'] > 250)].index,inplace=True)\n",
    "df1.drop(df1 [ ( df1['country'] == 'Canada') & (df1['property_type'] == 'Condominium') & (df1['price'] > 230)].index,inplace=True)\n",
    "df1.drop(df1 [ ( df1['country'] == 'Canada') & (df1['property_type'] == 'Loft') & (df1['price'] > 400)].index,inplace=True)\n",
    "df1.drop(df1 [ ( df1['country'] == 'Canada') & (df1['property_type'] == 'House') & (df1['price'] > 450)].index,inplace=True)"
   ]
  },
  {
   "cell_type": "code",
   "execution_count": 17,
   "id": "2c5f56e8-d0cd-48e6-90cc-41390777f3ca",
   "metadata": {},
   "outputs": [
    {
     "data": {
      "text/plain": [
       "(5462, 31)"
      ]
     },
     "execution_count": 17,
     "metadata": {},
     "output_type": "execute_result"
    }
   ],
   "source": [
    "df1.shape"
   ]
  },
  {
   "cell_type": "markdown",
   "id": "458a0320-3167-4c6a-8581-39512940d03f",
   "metadata": {},
   "source": [
    "# Removing Ouliers - Hong Kong"
   ]
  },
  {
   "cell_type": "code",
   "execution_count": 18,
   "id": "9cb29cc3-ec6b-4bc6-ad64-388411eb0033",
   "metadata": {},
   "outputs": [],
   "source": [
    "df1.drop(df1 [ ( df1['country'] == 'Hong Kong') & (df1['property_type'] == 'Apartment') & (df1['price'] > 2000)].index,inplace=True)\n",
    "df1.drop(df1 [ ( df1['country'] == 'Hong Kong') & (df1['property_type'] == 'Condominium') & (df1['price'] > 2400)].index,inplace=True)\n",
    "df1.drop(df1 [ ( df1['country'] == 'Hong Kong') & (df1['property_type'] == 'Bed and breakfast') & (df1['price'] > 1600)].index,inplace=True)\n",
    "df1.drop(df1 [ ( df1['country'] == 'Hong Kong') & (df1['property_type'] == 'Serviced apartment') & (df1['price'] > 2000)].index,inplace=True)\n",
    "df1.drop(df1 [ ( df1['country'] == 'Hong Kong') & (df1['property_type'] == 'Hotel') & (df1['price'] > 1000)].index,inplace=True)\n",
    "df1.drop(df1 [ ( df1['country'] == 'Hong Kong') & (df1['property_type'] == 'House') & (df1['price'] > 1600)].index,inplace=True)"
   ]
  },
  {
   "cell_type": "code",
   "execution_count": 19,
   "id": "ee2612d7-03b8-48b3-841a-4c3ef367b037",
   "metadata": {},
   "outputs": [
    {
     "data": {
      "text/plain": [
       "(5446, 31)"
      ]
     },
     "execution_count": 19,
     "metadata": {},
     "output_type": "execute_result"
    }
   ],
   "source": [
    "df1.shape"
   ]
  },
  {
   "cell_type": "markdown",
   "id": "3f7b8c4d-8f74-4b43-87ac-0262a0b4a141",
   "metadata": {},
   "source": [
    "# Removing Ouliers - Spain"
   ]
  },
  {
   "cell_type": "code",
   "execution_count": 20,
   "id": "36ae88c9-240b-4a99-a6c3-dbfb77251c54",
   "metadata": {},
   "outputs": [],
   "source": [
    "df1.drop(df1 [ ( df1['country'] == 'Spain') & (df1['property_type'] == 'Apartment') & (df1['price'] > 500)].index,inplace=True)\n",
    "df1.drop(df1 [ ( df1['country'] == 'Spain') & (df1['property_type'] == 'Condominium') & (df1['price'] > 220)].index,inplace=True)\n",
    "df1.drop(df1 [ ( df1['country'] == 'Spain') & (df1['property_type'] == 'Serviced apartment') & (df1['price'] > 220)].index,inplace=True)"
   ]
  },
  {
   "cell_type": "code",
   "execution_count": 21,
   "id": "ebcf8afe-98d7-4881-a507-9ca90ede46e6",
   "metadata": {},
   "outputs": [
    {
     "data": {
      "text/plain": [
       "(5432, 31)"
      ]
     },
     "execution_count": 21,
     "metadata": {},
     "output_type": "execute_result"
    }
   ],
   "source": [
    "df1.shape"
   ]
  },
  {
   "cell_type": "markdown",
   "id": "890d9592-559b-487b-b936-c6cf1bd99a26",
   "metadata": {},
   "source": [
    "# Removing Ouliers - Australia"
   ]
  },
  {
   "cell_type": "code",
   "execution_count": 22,
   "id": "822d0357-d0d9-4728-93a7-792362c70faa",
   "metadata": {},
   "outputs": [],
   "source": [
    "df1.drop(df1 [ ( df1['country'] == 'Australia') & (df1['property_type'] == 'Apartment') & (df1['price'] > 500)].index,inplace=True)\n",
    "df1.drop(df1 [ ( df1['country'] == 'Australia') & (df1['property_type'] == 'House') & (df1['price'] > 1000)].index,inplace=True)\n",
    "df1.drop(df1 [ ( df1['country'] == 'Australia') & (df1['property_type'] == 'Townhouse') & (df1['price'] > 400)].index,inplace=True)\n",
    "df1.drop(df1 [ ( df1['country'] == 'Australia') & (df1['property_type'] == 'Serviced apartment') & (df1['price'] > 250)].index,inplace=True)\n",
    "df1.drop(df1 [ ( df1['country'] == 'Australia') & (df1['property_type'] == 'Villa') & (df1['price'] > 150)].index,inplace=True)"
   ]
  },
  {
   "cell_type": "code",
   "execution_count": 23,
   "id": "5cb96fd1-13af-4473-9f1c-b229ca5e023e",
   "metadata": {},
   "outputs": [
    {
     "data": {
      "text/plain": [
       "(5412, 31)"
      ]
     },
     "execution_count": 23,
     "metadata": {},
     "output_type": "execute_result"
    }
   ],
   "source": [
    "df1.shape"
   ]
  },
  {
   "cell_type": "code",
   "execution_count": 25,
   "id": "eb2b375f-5789-4dc8-82ef-1acf55e5990b",
   "metadata": {},
   "outputs": [],
   "source": [
    "df1.to_csv(r\"C:\\Users\\Saathvik & Sujanya\\Documents\\Guvi\\Project\\04_Airbnb\\airbnb_without_outlier.csv\", index=False)"
   ]
  },
  {
   "cell_type": "code",
   "execution_count": null,
   "id": "fda51461-2f8e-4be1-8b41-8dcd2a524657",
   "metadata": {},
   "outputs": [],
   "source": [
    "    "
   ]
  }
 ],
 "metadata": {
  "kernelspec": {
   "display_name": "Python 3 (ipykernel)",
   "language": "python",
   "name": "python3"
  },
  "language_info": {
   "codemirror_mode": {
    "name": "ipython",
    "version": 3
   },
   "file_extension": ".py",
   "mimetype": "text/x-python",
   "name": "python",
   "nbconvert_exporter": "python",
   "pygments_lexer": "ipython3",
   "version": "3.12.2"
  }
 },
 "nbformat": 4,
 "nbformat_minor": 5
}
